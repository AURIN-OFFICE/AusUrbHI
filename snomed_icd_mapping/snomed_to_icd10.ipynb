{
 "cells": [
  {
   "cell_type": "code",
   "execution_count": 2,
   "metadata": {
    "collapsed": true
   },
   "outputs": [],
   "source": [
    "import medcat\n",
    "from medcat.utils.preprocess_snomed import Snomed\n",
    "import pandas as pd\n",
    "import numpy as np"
   ]
  },
  {
   "cell_type": "code",
   "execution_count": 5,
   "outputs": [
    {
     "ename": "FileNotFoundError",
     "evalue": "[WinError 3] The system cannot find the path specified: 'snomed'",
     "output_type": "error",
     "traceback": [
      "\u001B[1;31m---------------------------------------------------------------------------\u001B[0m",
      "\u001B[1;31mFileNotFoundError\u001B[0m                         Traceback (most recent call last)",
      "Cell \u001B[1;32mIn[5], line 10\u001B[0m\n\u001B[0;32m      6\u001B[0m     sctid2icd10_advice \u001B[38;5;241m=\u001B[39m {k: (g[\u001B[38;5;124m\"\u001B[39m\u001B[38;5;124mmapTarget\u001B[39m\u001B[38;5;124m\"\u001B[39m]\u001B[38;5;241m.\u001B[39mtolist(),g[\u001B[38;5;124m\"\u001B[39m\u001B[38;5;124mmapAdvice\u001B[39m\u001B[38;5;124m\"\u001B[39m]\u001B[38;5;241m.\u001B[39mtolist()) \u001B[38;5;28;01mfor\u001B[39;00m k,g \u001B[38;5;129;01min\u001B[39;00m icd_df[[\u001B[38;5;124m'\u001B[39m\u001B[38;5;124mreferencedComponentId\u001B[39m\u001B[38;5;124m'\u001B[39m, \u001B[38;5;124m'\u001B[39m\u001B[38;5;124mmapTarget\u001B[39m\u001B[38;5;124m'\u001B[39m, \u001B[38;5;124m'\u001B[39m\u001B[38;5;124mmapAdvice\u001B[39m\u001B[38;5;124m'\u001B[39m]]\u001B[38;5;241m.\u001B[39mgroupby(\u001B[38;5;124m\"\u001B[39m\u001B[38;5;124mreferencedComponentId\u001B[39m\u001B[38;5;124m\"\u001B[39m)}\n\u001B[0;32m      8\u001B[0m     \u001B[38;5;28;01mreturn\u001B[39;00m (sctid2icd10, sctid2icd10_advice)\n\u001B[1;32m---> 10\u001B[0m sctd2icd10, sct2icd10_with_advice \u001B[38;5;241m=\u001B[39m \u001B[43mget_snomed_to_ICD_map\u001B[49m\u001B[43m(\u001B[49m\u001B[38;5;124;43m'\u001B[39;49m\u001B[38;5;124;43msnomed\u001B[39;49m\u001B[38;5;124;43m'\u001B[39;49m\u001B[43m)\u001B[49m\n",
      "Cell \u001B[1;32mIn[5], line 3\u001B[0m, in \u001B[0;36mget_snomed_to_ICD_map\u001B[1;34m(path_to_snomed_data)\u001B[0m\n\u001B[0;32m      1\u001B[0m \u001B[38;5;28;01mdef\u001B[39;00m \u001B[38;5;21mget_snomed_to_ICD_map\u001B[39m(path_to_snomed_data: \u001B[38;5;28mstr\u001B[39m) \u001B[38;5;241m-\u001B[39m\u001B[38;5;241m>\u001B[39m (\u001B[38;5;28mdict\u001B[39m, \u001B[38;5;28mdict\u001B[39m):\n\u001B[0;32m      2\u001B[0m     snomed \u001B[38;5;241m=\u001B[39m Snomed(path_to_snomed_data)\n\u001B[1;32m----> 3\u001B[0m     snomed_df \u001B[38;5;241m=\u001B[39m \u001B[43msnomed\u001B[49m\u001B[38;5;241;43m.\u001B[39;49m\u001B[43mto_concept_df\u001B[49m\u001B[43m(\u001B[49m\u001B[43m)\u001B[49m\n\u001B[0;32m      4\u001B[0m     icd_df \u001B[38;5;241m=\u001B[39m snomed\u001B[38;5;241m.\u001B[39mmap_snomed2icd10()\n\u001B[0;32m      5\u001B[0m     sctid2icd10 \u001B[38;5;241m=\u001B[39m {k: g[\u001B[38;5;124m\"\u001B[39m\u001B[38;5;124mmapTarget\u001B[39m\u001B[38;5;124m\"\u001B[39m]\u001B[38;5;241m.\u001B[39mtolist() \u001B[38;5;28;01mfor\u001B[39;00m k,g \u001B[38;5;129;01min\u001B[39;00m icd_df[[\u001B[38;5;124m'\u001B[39m\u001B[38;5;124mreferencedComponentId\u001B[39m\u001B[38;5;124m'\u001B[39m, \u001B[38;5;124m'\u001B[39m\u001B[38;5;124mmapTarget\u001B[39m\u001B[38;5;124m'\u001B[39m]]\u001B[38;5;241m.\u001B[39mgroupby(\u001B[38;5;124m\"\u001B[39m\u001B[38;5;124mreferencedComponentId\u001B[39m\u001B[38;5;124m\"\u001B[39m)}\n",
      "File \u001B[1;32m~\\Documents\\AURIN\\AusUrbHI\\AusUrbHI\\lib\\site-packages\\medcat\\utils\\preprocess_snomed.py:38\u001B[0m, in \u001B[0;36mSnomed.to_concept_df\u001B[1;34m(self)\u001B[0m\n\u001B[0;32m     36\u001B[0m snomed_releases \u001B[38;5;241m=\u001B[39m []\n\u001B[0;32m     37\u001B[0m paths \u001B[38;5;241m=\u001B[39m []\n\u001B[1;32m---> 38\u001B[0m \u001B[38;5;28;01mif\u001B[39;00m \u001B[38;5;124m\"\u001B[39m\u001B[38;5;124mSnapshot\u001B[39m\u001B[38;5;124m\"\u001B[39m \u001B[38;5;129;01min\u001B[39;00m \u001B[43mos\u001B[49m\u001B[38;5;241;43m.\u001B[39;49m\u001B[43mlistdir\u001B[49m\u001B[43m(\u001B[49m\u001B[38;5;28;43mself\u001B[39;49m\u001B[38;5;241;43m.\u001B[39;49m\u001B[43mdata_path\u001B[49m\u001B[43m)\u001B[49m:\n\u001B[0;32m     39\u001B[0m     paths\u001B[38;5;241m.\u001B[39mappend(\u001B[38;5;28mself\u001B[39m\u001B[38;5;241m.\u001B[39mdata_path)\n\u001B[0;32m     40\u001B[0m     snomed_releases\u001B[38;5;241m.\u001B[39mappend(\u001B[38;5;28mself\u001B[39m\u001B[38;5;241m.\u001B[39mrelease)\n",
      "\u001B[1;31mFileNotFoundError\u001B[0m: [WinError 3] The system cannot find the path specified: 'snomed'"
     ]
    }
   ],
   "source": [
    "def get_snomed_to_ICD_map(path_to_snomed_data: str) -> (dict, dict):\n",
    "    snomed = Snomed(path_to_snomed_data)\n",
    "    snomed_df = snomed.to_concept_df()\n",
    "    icd_df = snomed.map_snomed2icd10()\n",
    "    sctid2icd10 = {k: g[\"mapTarget\"].tolist() for k,g in icd_df[['referencedComponentId', 'mapTarget']].groupby(\"referencedComponentId\")}\n",
    "    sctid2icd10_advice = {k: (g[\"mapTarget\"].tolist(),g[\"mapAdvice\"].tolist()) for k,g in icd_df[['referencedComponentId', 'mapTarget', 'mapAdvice']].groupby(\"referencedComponentId\")}\n",
    "\n",
    "    return (sctid2icd10, sctid2icd10_advice)\n",
    "\n",
    "sctd2icd10, sct2icd10_with_advice = get_snomed_to_ICD_map('snomed')"
   ],
   "metadata": {
    "collapsed": false
   }
  },
  {
   "cell_type": "code",
   "execution_count": null,
   "outputs": [],
   "source": [],
   "metadata": {
    "collapsed": false
   }
  }
 ],
 "metadata": {
  "kernelspec": {
   "display_name": "Python 3",
   "language": "python",
   "name": "python3"
  },
  "language_info": {
   "codemirror_mode": {
    "name": "ipython",
    "version": 2
   },
   "file_extension": ".py",
   "mimetype": "text/x-python",
   "name": "python",
   "nbconvert_exporter": "python",
   "pygments_lexer": "ipython2",
   "version": "2.7.6"
  }
 },
 "nbformat": 4,
 "nbformat_minor": 0
}
