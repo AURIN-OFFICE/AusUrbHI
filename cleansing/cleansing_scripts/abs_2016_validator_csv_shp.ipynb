{
 "cells": [
  {
   "cell_type": "code",
   "execution_count": 73,
   "outputs": [],
   "source": [
    "# shp_file_path = \"datasource-AU_Govt_ABS_Census-UoM_AURIN_DB_2_sa1_g22a_unpaid_child_care_by_age_by_sex_census_2016_study_area_refined.shp\"\n",
    "# csv_file_path = \"2016Census_G22A_NSW_SA1.csv\""
   ],
   "metadata": {
    "collapsed": false,
    "ExecuteTime": {
     "end_time": "2023-09-07T03:46:03.448737700Z",
     "start_time": "2023-09-07T03:46:03.445736700Z"
    }
   }
  },
  {
   "cell_type": "code",
   "execution_count": 74,
   "outputs": [],
   "source": [
    "shp_file_path = \"datasource-AU_Govt_ABS_Census-UoM_AURIN_DB_2_sa1_g43b_labour_force_status_by_age_by_sex_census_2016_study_area_refined.shp\"\n",
    "csv_file_path = \"2016Census_G43B_NSW_SA1.csv\""
   ],
   "metadata": {
    "collapsed": false,
    "ExecuteTime": {
     "end_time": "2023-09-07T03:46:03.454923900Z",
     "start_time": "2023-09-07T03:46:03.450736800Z"
    }
   }
  },
  {
   "cell_type": "code",
   "execution_count": 75,
   "outputs": [],
   "source": [
    "import geopandas as gpd\n",
    "import pandas as pd\n",
    "from tqdm import tqdm\n",
    "\n",
    "# # specify file paths\n",
    "shp_file_path = \"../../_data/AusUrbHI HVI data processed/ABS 2016/\" + shp_file_path\n",
    "csv_file_path = \"../../_data/validation/2016_GCP_SA1_for_NSW_short-header/2016 Census GCP Statistical Area 1 for NSW/\" + csv_file_path"
   ],
   "metadata": {
    "collapsed": false,
    "ExecuteTime": {
     "end_time": "2023-09-07T03:46:03.469665500Z",
     "start_time": "2023-09-07T03:46:03.458932600Z"
    }
   }
  },
  {
   "cell_type": "code",
   "execution_count": 76,
   "outputs": [],
   "source": [
    "# load files\n",
    "csv_df = pd.read_csv(csv_file_path)\n",
    "shp_df = gpd.read_file(shp_file_path)"
   ],
   "metadata": {
    "collapsed": false,
    "ExecuteTime": {
     "end_time": "2023-09-07T03:47:46.105477300Z",
     "start_time": "2023-09-07T03:46:03.470673700Z"
    }
   }
  },
  {
   "cell_type": "code",
   "execution_count": 84,
   "outputs": [
    {
     "name": "stderr",
     "output_type": "stream",
     "text": [
      "Comparing CSV and SHP: 100%|██████████| 12448/12448 [01:42<00:00, 120.93it/s]\n"
     ]
    }
   ],
   "source": [
    "# compare csv and shp\n",
    "csv_sa1_code_list = [str(i) for i in csv_df[\"SA1_7DIGITCODE_2016\"].values]\n",
    "for idx, row in tqdm(shp_df.iterrows(), total=len(shp_df), desc=\"Comparing CSV and SHP\"):\n",
    "    sa1_code = row[\"sa1_7dig16\"]\n",
    "\n",
    "    if sa1_code in csv_sa1_code_list:\n",
    "        shp_data_1 = row.iloc[1:-2].astype(str).tolist()\n",
    "        shp_data_2 = row.iloc[2:-1].astype(str).tolist()\n",
    "        csv_data = csv_df.loc[csv_df[\"SA1_7DIGITCODE_2016\"].astype(str) == sa1_code].iloc[0].astype(str).tolist()\n",
    "        try:\n",
    "            assert(shp_data_1 == csv_data or shp_data_2 == csv_data)\n",
    "        except AssertionError:\n",
    "            print(\"shp_data_1\", len(shp_data_1), shp_data_1)\n",
    "            print(\"shp_data_2\", len(shp_data_2), shp_data_2)\n",
    "            print(\"csv_data\", len(csv_data), csv_data)"
   ],
   "metadata": {
    "collapsed": false,
    "ExecuteTime": {
     "end_time": "2023-09-07T03:57:23.537357200Z",
     "start_time": "2023-09-07T03:55:40.578917700Z"
    }
   }
  },
  {
   "cell_type": "code",
   "execution_count": null,
   "outputs": [],
   "source": [],
   "metadata": {
    "collapsed": false
   }
  }
 ],
 "metadata": {
  "kernelspec": {
   "display_name": "Python 3",
   "language": "python",
   "name": "python3"
  },
  "language_info": {
   "codemirror_mode": {
    "name": "ipython",
    "version": 2
   },
   "file_extension": ".py",
   "mimetype": "text/x-python",
   "name": "python",
   "nbconvert_exporter": "python",
   "pygments_lexer": "ipython2",
   "version": "2.7.6"
  }
 },
 "nbformat": 4,
 "nbformat_minor": 0
}
