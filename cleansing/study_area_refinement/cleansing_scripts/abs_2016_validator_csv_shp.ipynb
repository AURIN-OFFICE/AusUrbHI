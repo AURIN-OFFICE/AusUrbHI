{
 "cells": [
  {
   "cell_type": "code",
   "execution_count": 88,
   "outputs": [
    {
     "name": "stdout",
     "output_type": "stream",
     "text": [
      "datasource-AU_Govt_ABS_Census-UoM_AURIN_DB_2_sa1_g01_selected_person_characteristics_by_sex_census_2016_study_area_refined.shp\n",
      "datasource-AU_Govt_ABS_Census-UoM_AURIN_DB_2_sa1_g07_indigenous_status_by_age_by_sex_census_2016_study_area_refined.shp\n",
      "datasource-AU_Govt_ABS_Census-UoM_AURIN_DB_2_sa1_g16a_highest_yr_sch_by_age_by_sex_census_2016_study_area_refined.shp\n",
      "datasource-AU_Govt_ABS_Census-UoM_AURIN_DB_2_sa1_g16b_highest_yr_sch_by_age_by_sex_census_2016_study_area_refined.shp\n",
      "datasource-AU_Govt_ABS_Census-UoM_AURIN_DB_2_sa1_g21_unpaid_asst_disability_by_age_by_sex_census_2016_study_area_refined.shp\n",
      "datasource-AU_Govt_ABS_Census-UoM_AURIN_DB_2_sa1_g22a_unpaid_child_care_by_age_by_sex_census_2016_study_area_refined.shp\n",
      "datasource-AU_Govt_ABS_Census-UoM_AURIN_DB_2_sa1_g22b_unpaid_child_care_by_age_by_sex_census_2016_study_area_refined.shp\n",
      "datasource-AU_Govt_ABS_Census-UoM_AURIN_DB_2_sa1_g23a_relationship_in_household_by_age_by_sex_census_2016_study_area_refined.shp\n",
      "datasource-AU_Govt_ABS_Census-UoM_AURIN_DB_2_sa1_g23b_relationship_in_household_by_age_by_sex_census_2016_study_area_refined.shp\n",
      "datasource-AU_Govt_ABS_Census-UoM_AURIN_DB_2_sa1_g28_total_family_income_by_composition_census_2016_study_area_refined.shp\n",
      "datasource-AU_Govt_ABS_Census-UoM_AURIN_DB_2_sa1_g33_tenure_landlord_type_by_dwelling_struct_census_2016_study_area_refined.shp\n",
      "datasource-AU_Govt_ABS_Census-UoM_AURIN_DB_2_sa1_g39_dwelling_struct_by_hsehold_and_family_census_2016_study_area_refined.shp\n",
      "datasource-AU_Govt_ABS_Census-UoM_AURIN_DB_2_sa1_g43a_labour_force_status_by_age_by_sex_census_2016_study_area_refined.shp\n",
      "datasource-AU_Govt_ABS_Census-UoM_AURIN_DB_2_sa1_g43b_labour_force_status_by_age_by_sex_census_2016_study_area_refined.shp\n",
      "datasource-AU_Govt_ABS_Census-UoM_AURIN_DB_2_sa1_g45a_lbr_frc_sts_by_prnt_sx_by_age_of_dep_chdrn_census_2016_study_area_refined.shp\n",
      "datasource-AU_Govt_ABS_Census-UoM_AURIN_DB_2_sa1_g45b_lbr_frc_sts_by_prnt_sx_by_age_of_dep_chdrn_census_2016_study_area_refined.shp\n",
      "datasource-AU_Govt_ABS_Census-UoM_AURIN_DB_2_sa1_g46a_non_scl_qual_lvl_of_edu_by_age_by_sex_census_2016_study_area_refined.shp\n",
      "datasource-AU_Govt_ABS_Census-UoM_AURIN_DB_2_sa1_g46b_non_scl_qual_lvl_of_edu_by_age_by_sex_census_2016_study_area_refined.shp\n",
      "2016Census_G01_NSW_SA1.csv\n",
      "2016Census_G02_NSW_SA1.csv\n",
      "2016Census_G03_NSW_SA1.csv\n",
      "2016Census_G04A_NSW_SA1.csv\n",
      "2016Census_G04B_NSW_SA1.csv\n",
      "2016Census_G05_NSW_SA1.csv\n",
      "2016Census_G06_NSW_SA1.csv\n",
      "2016Census_G07_NSW_SA1.csv\n",
      "2016Census_G08_NSW_SA1.csv\n",
      "2016Census_G09A_NSW_SA1.csv\n",
      "2016Census_G09B_NSW_SA1.csv\n",
      "2016Census_G09C_NSW_SA1.csv\n",
      "2016Census_G09D_NSW_SA1.csv\n",
      "2016Census_G09E_NSW_SA1.csv\n",
      "2016Census_G09F_NSW_SA1.csv\n",
      "2016Census_G09G_NSW_SA1.csv\n",
      "2016Census_G09H_NSW_SA1.csv\n",
      "2016Census_G10A_NSW_SA1.csv\n",
      "2016Census_G10B_NSW_SA1.csv\n",
      "2016Census_G10C_NSW_SA1.csv\n",
      "2016Census_G11A_NSW_SA1.csv\n",
      "2016Census_G11B_NSW_SA1.csv\n",
      "2016Census_G11C_NSW_SA1.csv\n",
      "2016Census_G11D_NSW_SA1.csv\n",
      "2016Census_G12A_NSW_SA1.csv\n",
      "2016Census_G12B_NSW_SA1.csv\n",
      "2016Census_G13A_NSW_SA1.csv\n",
      "2016Census_G13B_NSW_SA1.csv\n",
      "2016Census_G13C_NSW_SA1.csv\n",
      "2016Census_G13D_NSW_SA1.csv\n",
      "2016Census_G14_NSW_SA1.csv\n",
      "2016Census_G15_NSW_SA1.csv\n",
      "2016Census_G16A_NSW_SA1.csv\n",
      "2016Census_G16B_NSW_SA1.csv\n",
      "2016Census_G17A_NSW_SA1.csv\n",
      "2016Census_G17B_NSW_SA1.csv\n",
      "2016Census_G17C_NSW_SA1.csv\n",
      "2016Census_G18_NSW_SA1.csv\n",
      "2016Census_G19_NSW_SA1.csv\n",
      "2016Census_G20A_NSW_SA1.csv\n",
      "2016Census_G20B_NSW_SA1.csv\n",
      "2016Census_G21_NSW_SA1.csv\n",
      "2016Census_G22A_NSW_SA1.csv\n",
      "2016Census_G22B_NSW_SA1.csv\n",
      "2016Census_G23A_NSW_SA1.csv\n",
      "2016Census_G23B_NSW_SA1.csv\n",
      "2016Census_G24_NSW_SA1.csv\n",
      "2016Census_G25_NSW_SA1.csv\n",
      "2016Census_G26_NSW_SA1.csv\n",
      "2016Census_G27_NSW_SA1.csv\n",
      "2016Census_G28_NSW_SA1.csv\n",
      "2016Census_G29_NSW_SA1.csv\n",
      "2016Census_G30_NSW_SA1.csv\n",
      "2016Census_G31_NSW_SA1.csv\n",
      "2016Census_G32_NSW_SA1.csv\n",
      "2016Census_G33_NSW_SA1.csv\n",
      "2016Census_G34_NSW_SA1.csv\n",
      "2016Census_G35_NSW_SA1.csv\n",
      "2016Census_G36_NSW_SA1.csv\n",
      "2016Census_G37_NSW_SA1.csv\n",
      "2016Census_G38_NSW_SA1.csv\n",
      "2016Census_G39_NSW_SA1.csv\n",
      "2016Census_G40_NSW_SA1.csv\n",
      "2016Census_G41_NSW_SA1.csv\n",
      "2016Census_G42_NSW_SA1.csv\n",
      "2016Census_G43A_NSW_SA1.csv\n",
      "2016Census_G43B_NSW_SA1.csv\n",
      "2016Census_G44A_NSW_SA1.csv\n",
      "2016Census_G44B_NSW_SA1.csv\n",
      "2016Census_G44C_NSW_SA1.csv\n",
      "2016Census_G44D_NSW_SA1.csv\n",
      "2016Census_G44E_NSW_SA1.csv\n",
      "2016Census_G44F_NSW_SA1.csv\n",
      "2016Census_G45A_NSW_SA1.csv\n",
      "2016Census_G45B_NSW_SA1.csv\n",
      "2016Census_G46A_NSW_SA1.csv\n",
      "2016Census_G46B_NSW_SA1.csv\n",
      "2016Census_G47A_NSW_SA1.csv\n",
      "2016Census_G47B_NSW_SA1.csv\n",
      "2016Census_G47C_NSW_SA1.csv\n",
      "2016Census_G48A_NSW_SA1.csv\n",
      "2016Census_G48B_NSW_SA1.csv\n",
      "2016Census_G48C_NSW_SA1.csv\n",
      "2016Census_G49A_NSW_SA1.csv\n",
      "2016Census_G49B_NSW_SA1.csv\n",
      "2016Census_G49C_NSW_SA1.csv\n",
      "2016Census_G50A_NSW_SA1.csv\n",
      "2016Census_G50B_NSW_SA1.csv\n",
      "2016Census_G50C_NSW_SA1.csv\n",
      "2016Census_G51A_NSW_SA1.csv\n",
      "2016Census_G51B_NSW_SA1.csv\n",
      "2016Census_G51C_NSW_SA1.csv\n",
      "2016Census_G51D_NSW_SA1.csv\n",
      "2016Census_G52A_NSW_SA1.csv\n",
      "2016Census_G52B_NSW_SA1.csv\n",
      "2016Census_G52C_NSW_SA1.csv\n",
      "2016Census_G52D_NSW_SA1.csv\n",
      "2016Census_G53A_NSW_SA1.csv\n",
      "2016Census_G53B_NSW_SA1.csv\n",
      "2016Census_G54A_NSW_SA1.csv\n",
      "2016Census_G54B_NSW_SA1.csv\n",
      "2016Census_G55A_NSW_SA1.csv\n",
      "2016Census_G55B_NSW_SA1.csv\n",
      "2016Census_G56A_NSW_SA1.csv\n",
      "2016Census_G56B_NSW_SA1.csv\n",
      "2016Census_G57A_NSW_SA1.csv\n",
      "2016Census_G57B_NSW_SA1.csv\n",
      "2016Census_G58A_NSW_SA1.csv\n",
      "2016Census_G58B_NSW_SA1.csv\n",
      "2016Census_G59_NSW_SA1.csv\n"
     ]
    }
   ],
   "source": [
    "# # list all ausurbhi abs 2016 shapfiles\n",
    "# import os\n",
    "#\n",
    "# def list_files_with_extension(root_dir, extension):\n",
    "#     file_list = []\n",
    "#     for root, dirs, files in os.walk(root_dir):\n",
    "#         for file in files:\n",
    "#             if file.endswith(extension):\n",
    "#                 file_list.append(file)\n",
    "#     return file_list\n",
    "#\n",
    "# root_dir_shp = \"../../_data/AusUrbHI HVI data processed/ABS 2016/\"\n",
    "# extension_shp = \".shp\"\n",
    "# shp_files = list_files_with_extension(root_dir_shp, extension_shp)\n",
    "#\n",
    "# for f in shp_files:\n",
    "#     print(f)\n",
    "#\n",
    "# # list all abs 2016 csvs\n",
    "# root_dir_csv = \"../../_data/validation/2016_GCP_SA1_for_NSW_short-header/2016 Census GCP Statistical Area 1 for NSW/\"\n",
    "# extension_csv = \".csv\"\n",
    "# csv_files = list_files_with_extension(root_dir_csv, extension_csv)\n",
    "#\n",
    "# for f in csv_files:\n",
    "#     print(f)"
   ],
   "metadata": {
    "collapsed": false,
    "ExecuteTime": {
     "end_time": "2023-09-07T04:06:00.368280300Z",
     "start_time": "2023-09-07T04:06:00.358209400Z"
    }
   }
  },
  {
   "cell_type": "code",
   "execution_count": null,
   "outputs": [],
   "source": [
    "dict = {\n",
    "    \"datasource-AU_Govt_ABS_Census-UoM_AURIN_DB_2_sa1_g01_selected_person_characteristics_by_sex_census_2016_study_area_refined.shp\": \"2016Census_G01_NSW_SA1.csv\",\n",
    "    \"datasource-AU_Govt_ABS_Census-UoM_AURIN_DB_2_sa1_g07_indigenous_status_by_age_by_sex_census_2016_study_area_refined.shp\": \"2016Census_G07_NSW_SA1.csv\",\n",
    "    \"datasource-AU_Govt_ABS_Census-UoM_AURIN_DB_2_sa1_g16a_highest_yr_sch_by_age_by_sex_census_2016_study_area_refined.shp\": \"2016Census_G16A_NSW_SA1.csv\",\n",
    "    \"datasource-AU_Govt_ABS_Census-UoM_AURIN_DB_2_sa1_g16b_highest_yr_sch_by_age_by_sex_census_2016_study_area_refined.shp\": \"2016Census_G16B_NSW_SA1.csv\",\n",
    "    \"datasource-AU_Govt_ABS_Census-UoM_AURIN_DB_2_sa1_g21_unpaid_asst_disability_by_age_by_sex_census_2016_study_area_refined.shp\": \"2016Census_G21_NSW_SA1.csv\",\n",
    "    \"datasource-AU_Govt_ABS_Census-UoM_AURIN_DB_2_sa1_g22a_unpaid_child_care_by_age_by_sex_census_2016_study_area_refined.shp\": \"2016Census_G22A_NSW_SA1.csv\",\n",
    "    \"datasource-AU_Govt_ABS_Census-UoM_AURIN_DB_2_sa1_g22b_unpaid_child_care_by_age_by_sex_census_2016_study_area_refined.shp\": \"2016Census_G22B_NSW_SA1.csv\",\n",
    "    \"datasource-AU_Govt_ABS_Census-UoM_AURIN_DB_2_sa1_g23a_relationship_in_household_by_age_by_sex_census_2016_study_area_refined.shp\": \"2016Census_G23A_NSW_SA1.csv\",\n",
    "    \"datasource-AU_Govt_ABS_Census-UoM_AURIN_DB_2_sa1_g23b_relationship_in_household_by_age_by_sex_census_2016_study_area_refined.shp\": \"2016Census_G23B_NSW_SA1.csv\",\n",
    "    \"datasource-AU_Govt_ABS_Census-UoM_AURIN_DB_2_sa1_g28_total_family_income_by_composition_census_2016_study_area_refined.shp\": \"2016Census_G28_NSW_SA1.csv\",\n",
    "    \"datasource-AU_Govt_ABS_Census-UoM_AURIN_DB_2_sa1_g33_tenure_landlord_type_by_dwelling_struct_census_2016_study_area_refined.shp\": \"2016Census_G33_NSW_SA1.csv\",\n",
    "    \"datasource-AU_Govt_ABS_Census-UoM_AURIN_DB_2_sa1_g39_dwelling_struct_by_hsehold_and_family_census_2016_study_area_refined.shp\": \"2016Census_G39_NSW_SA1.csv\",\n",
    "    \"datasource-AU_Govt_ABS_Census-UoM_AURIN_DB_2_sa1_g43a_labour_force_status_by_age_by_sex_census_2016_study_area_refined.shp\": \"2016Census_G43A_NSW_SA1.csv\",\n",
    "    \"datasource-AU_Govt_ABS_Census-UoM_AURIN_DB_2_sa1_g43b_labour_force_status_by_age_by_sex_census_2016_study_area_refined.shp\": \"2016Census_G43B_NSW_SA1.csv\",\n",
    "    \"datasource-AU_Govt_ABS_Census-UoM_AURIN_DB_2_sa1_g45a_lbr_frc_sts_by_prnt_sx_by_age_of_dep_chdrn_census_2016_study_area_refined.shp\": \"2016Census_G45A_NSW_SA1.csv\",\n",
    "    \"datasource-AU_Govt_ABS_Census-UoM_AURIN_DB_2_sa1_g45b_lbr_frc_sts_by_prnt_sx_by_age_of_dep_chdrn_census_2016_study_area_refined.shp\": \"2016Census_G45B_NSW_SA1.csv\",\n",
    "    \"datasource-AU_Govt_ABS_Census-UoM_AURIN_DB_2_sa1_g46a_non_scl_qual_lvl_of_edu_by_age_by_sex_census_2016_study_area_refined.shp\": \"2016Census_G46A_NSW_SA1.csv\",\n",
    "    \"datasource-AU_Govt_ABS_Census-UoM_AURIN_DB_2_sa1_g46b_non_scl_qual_lvl_of_edu_by_age_by_sex_census_2016_study_area_refined.shp\": \"2016Census_G46B_NSW_SA1.csv\"\n",
    "}"
   ],
   "metadata": {
    "collapsed": false
   }
  },
  {
   "cell_type": "code",
   "execution_count": 73,
   "outputs": [],
   "source": [
    "# shp_file_path = \"datasource-AU_Govt_ABS_Census-UoM_AURIN_DB_2_sa1_g22a_unpaid_child_care_by_age_by_sex_census_2016_study_area_refined.shp\"\n",
    "# csv_file_path = \"2016Census_G22A_NSW_SA1.csv\""
   ],
   "metadata": {
    "collapsed": false,
    "ExecuteTime": {
     "end_time": "2023-09-07T03:46:03.448737700Z",
     "start_time": "2023-09-07T03:46:03.445736700Z"
    }
   }
  },
  {
   "cell_type": "code",
   "execution_count": 74,
   "outputs": [],
   "source": [
    "shp_file_name = \"datasource-AU_Govt_ABS_Census-UoM_AURIN_DB_2_sa1_g43b_labour_force_status_by_age_by_sex_census_2016_study_area_refined.shp\"\n",
    "csv_file_name = \"2016Census_G43B_NSW_SA1.csv\""
   ],
   "metadata": {
    "collapsed": false,
    "ExecuteTime": {
     "end_time": "2023-09-07T03:46:03.454923900Z",
     "start_time": "2023-09-07T03:46:03.450736800Z"
    }
   }
  },
  {
   "cell_type": "code",
   "execution_count": 75,
   "outputs": [],
   "source": [
    "import geopandas as gpd\n",
    "import pandas as pd\n",
    "from tqdm import tqdm\n",
    "\n",
    "# # specify file paths\n",
    "shp_file_path = \"../../_data/AusUrbHI HVI data processed/ABS 2016/\" + shp_file_name\n",
    "csv_file_path = \"../../_data/validation/2016_GCP_SA1_for_NSW_short-header/2016 Census GCP Statistical Area 1 for NSW/\" + csv_file_name"
   ],
   "metadata": {
    "collapsed": false,
    "ExecuteTime": {
     "end_time": "2023-09-07T03:46:03.469665500Z",
     "start_time": "2023-09-07T03:46:03.458932600Z"
    }
   }
  },
  {
   "cell_type": "code",
   "execution_count": 76,
   "outputs": [],
   "source": [
    "# load files\n",
    "csv_df = pd.read_csv(csv_file_path)\n",
    "shp_df = gpd.read_file(shp_file_path)"
   ],
   "metadata": {
    "collapsed": false,
    "ExecuteTime": {
     "end_time": "2023-09-07T03:47:46.105477300Z",
     "start_time": "2023-09-07T03:46:03.470673700Z"
    }
   }
  },
  {
   "cell_type": "code",
   "execution_count": 84,
   "outputs": [
    {
     "name": "stderr",
     "output_type": "stream",
     "text": [
      "Comparing CSV and SHP: 100%|██████████| 12448/12448 [01:42<00:00, 120.93it/s]\n"
     ]
    }
   ],
   "source": [
    "# compare csv and shp\n",
    "def compare(shp_df, csv_df, shp_file_name, csv_file_name):\n",
    "    csv_sa1_code_list = [str(i) for i in csv_df[\"SA1_7DIGITCODE_2016\"].values]\n",
    "    for idx, row in tqdm(shp_df.iterrows(), total=len(shp_df), desc=f\"Comparing {shp_file_name} and {csv_file_name}\"):\n",
    "        sa1_code = row[\"sa1_7dig16\"]\n",
    "\n",
    "        if sa1_code in csv_sa1_code_list:\n",
    "            shp_data_1 = row.iloc[1:-2].astype(str).tolist()\n",
    "            shp_data_2 = row.iloc[2:-1].astype(str).tolist()\n",
    "            csv_data = csv_df.loc[csv_df[\"SA1_7DIGITCODE_2016\"].astype(str) == sa1_code].iloc[0].astype(str).tolist()\n",
    "            try:\n",
    "                assert(shp_data_1 == csv_data or shp_data_2 == csv_data)\n",
    "            except AssertionError:\n",
    "                print(\"shp_data_1\", len(shp_data_1), shp_data_1)\n",
    "                print(\"shp_data_2\", len(shp_data_2), shp_data_2)\n",
    "                print(\"csv_data\", len(csv_data), csv_data)"
   ],
   "metadata": {
    "collapsed": false,
    "ExecuteTime": {
     "end_time": "2023-09-07T03:57:23.537357200Z",
     "start_time": "2023-09-07T03:55:40.578917700Z"
    }
   }
  },
  {
   "cell_type": "code",
   "execution_count": null,
   "outputs": [],
   "source": [
    "for shp_file_name, csv_file_name in dict.items():\n",
    "    # specify file paths\n",
    "    shp_file_path = \"../../_data/AusUrbHI HVI data processed/ABS 2016/\" + shp_file_name\n",
    "    csv_file_path = \"../../_data/validation/2016_GCP_SA1_for_NSW_short-header/2016 Census GCP Statistical Area 1 for NSW/\" + csv_file_name\n",
    "\n",
    "    # load files\n",
    "    csv_df = pd.read_csv(csv_file_path)\n",
    "    shp_df = gpd.read_file(shp_file_path)\n",
    "\n",
    "    # compare csv and shp\n",
    "    compare(shp_df, csv_df, shp_file_name, csv_file_name)"
   ],
   "metadata": {
    "collapsed": false
   }
  }
 ],
 "metadata": {
  "kernelspec": {
   "display_name": "Python 3",
   "language": "python",
   "name": "python3"
  },
  "language_info": {
   "codemirror_mode": {
    "name": "ipython",
    "version": 2
   },
   "file_extension": ".py",
   "mimetype": "text/x-python",
   "name": "python",
   "nbconvert_exporter": "python",
   "pygments_lexer": "ipython2",
   "version": "2.7.6"
  }
 },
 "nbformat": 4,
 "nbformat_minor": 0
}
