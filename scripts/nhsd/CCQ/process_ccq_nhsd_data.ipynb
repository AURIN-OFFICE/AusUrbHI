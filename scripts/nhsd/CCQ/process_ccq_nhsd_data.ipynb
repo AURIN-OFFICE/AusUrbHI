{
 "cells": [
  {
   "cell_type": "code",
   "execution_count": 3,
   "id": "initial_id",
   "metadata": {
    "collapsed": true,
    "ExecuteTime": {
     "end_time": "2023-12-17T09:55:17.558924200Z",
     "start_time": "2023-12-17T09:55:17.512395600Z"
    }
   },
   "outputs": [],
   "source": [
    "import csv\n",
    "import geopandas as gpd\n",
    "import pandas as pd\n",
    "\n",
    "sa2_boundary_shp = \"../../../_data/archive/boundary_data/SA2_2021_AUST_GDA2020.shp\"\n",
    "ccq_indices_csv = \"../../../_data/archive/ccq_nhsd/ccq_indices/AUSURB-HI - Spatial variation indicators.csv\"\n"
   ]
  },
  {
   "cell_type": "code",
   "execution_count": 5,
   "outputs": [
    {
     "name": "stdout",
     "output_type": "stream",
     "text": [
      "['Alexandra Hills', 'Belmont - Gumdale', 'Birkdale', 'Capalaba', 'Thorneside', 'Wellington Point', 'Cleveland', 'Ormiston', 'Redland Bay', 'Sheldon - Mount Cotton', 'Thornlands', 'Victoria Point', 'Manly - Lota', 'Manly West', 'Murarrie', 'Tingalpa', 'Wakerley', 'Wynnum', 'Wynnum West - Hemmant', 'Bald Hills', 'Bridgeman Downs', 'Carseldine', 'Everton Park', 'McDowall', 'Aspley', 'Chermside', 'Chermside West', 'Geebung', 'Kedron - Gordon Park', 'Stafford', 'Stafford Heights', 'Wavell Heights', 'Boondall', 'Brisbane Airport', 'Eagle Farm - Pinkenba', 'Northgate - Virginia', 'Nudgee - Banyo', 'Nundah', 'Bracken Ridge', 'Brighton (Qld)', 'Deagon', 'Sandgate - Shorncliffe', 'Taigum - Fitzgibbon', 'Zillmere', 'Camp Hill', 'Cannon Hill', 'Carina', 'Carina Heights', 'Carindale', 'Annerley', 'Coorparoo', 'Fairfield - Dutton Park', 'Greenslopes', 'Holland Park', 'Holland Park West', 'Woolloongabba', 'Yeronga', 'Eight Mile Plains', 'Macgregor (Qld)', 'Mansfield (Qld)', 'Mount Gravatt', 'Rochedale - Burbank', 'Upper Mount Gravatt', 'Wishart', 'Coopers Plains', 'Moorooka', 'Robertson', 'Salisbury - Nathan', 'Tarragindi', 'Algester', 'Calamvale - Stretton', 'Pallara - Willawong', 'Parkinson - Drewvale', 'Rocklea - Acacia Ridge', 'Kuraby', 'Runcorn', 'Sunnybank', 'Sunnybank Hills', 'Jindalee - Mount Ommaney', 'Middle Park - Jamboree Heights', 'Riverhills', 'Seventeen Mile Rocks - Sinnamon Park', 'Westlake', 'Bellbowrie - Moggill', 'Brookfield - Kenmore Hills', 'Chapel Hill', 'Fig Tree Pocket', 'Kenmore', 'Pinjarra Hills - Pullenvale', 'Chelmer - Graceville', 'Corinda', 'Indooroopilly', 'Sherwood', 'St Lucia', 'Taringa', 'Enoggera', 'Enoggera Reservoir', 'Keperra', 'Mitchelton', 'The Gap', 'Upper Kedron - Ferny Grove', 'Brisbane City', 'Fortitude Valley', 'Highgate Hill', 'Kangaroo Point', 'New Farm', 'South Brisbane', 'Spring Hill', 'West End', 'Balmoral', 'Bulimba', 'East Brisbane', 'Hawthorne', 'Morningside - Seven Hills', 'Norman Park', 'Albion', 'Alderley', 'Ascot', 'Clayfield', 'Grange', 'Hamilton (Qld)', 'Hendra', 'Kelvin Grove - Herston', 'Newmarket', 'Newstead - Bowen Hills', 'Wilston', 'Windsor', 'Wooloowin - Lutwyche', 'Ashgrove', 'Auchenflower', 'Bardon', 'Paddington - Milton', 'Red Hill (Qld)', 'Toowong', 'Brinsmead', 'Clifton Beach - Kewarra Beach', 'Freshwater - Stratford', 'Redlynch', 'Trinity Beach - Smithfield', 'Yorkeys Knob - Machans Beach', 'Bentley Park', 'Cairns City', 'Earlville - Bayview Heights', 'Edmonton', 'Gordonvale - Trinity', 'Kanimbla - Mooroobool', 'Manoora', 'Manunda', 'Mount Sheridan', 'Westcourt - Bungalow', 'White Rock', 'Whitfield - Edge Hill', 'Woree', 'Babinda', 'Innisfail', 'Johnstone', 'Tully', 'Yarrabah', 'Daintree', 'Port Douglas', 'Atherton', 'Herberton', 'Kuranda', 'Malanda - Yungaburra', 'Mareeba', 'Balonne', 'Chinchilla', 'Goondiwindi', 'Inglewood - Waggamba', 'Miles - Wandoan', 'Roma', 'Roma Region', 'Tara', 'Crows Nest - Rosalie', 'Jondaryan', 'Millmerran', 'Pittsworth', 'Wambo', 'Clifton - Greenmount', 'Southern Downs - East', 'Southern Downs - West', 'Stanthorpe', 'Stanthorpe Region', 'Warwick', 'Central Highlands - East', 'Central Highlands - West', 'Emerald', 'Berserker', 'Bouldercombe', 'Emu Park', 'Frenchville - Mount Archer', 'Glenlee - Rockyview', 'Gracemere', 'Lakes Creek', 'Mount Morgan', 'Norman Gardens', 'Park Avenue', 'Parkhurst - Kawana', 'Rockhampton - West', 'Rockhampton City', 'Rockhampton Region - East', 'Rockhampton Region - North', 'Rockhampton Region - West', 'Shoalwater Bay', 'The Range - Allenstown', 'Yeppoon', 'Broadbeach Waters', 'Burleigh Heads', 'Burleigh Waters', 'Mermaid Beach - Broadbeach', 'Mermaid Waters', 'Miami', 'Coolangatta', 'Currumbin - Tugun', 'Currumbin Waters', 'Elanora', 'Palm Beach', 'Arundel', 'Biggera Waters', 'Coombabah', 'Labrador', 'Paradise Point - Hollywell', 'Runaway Bay', 'Guanaba - Springbrook', 'Tamborine - Canungra', 'Currumbin Valley - Tallebudgera', 'Mudgeeraba - Bonogin', 'Reedy Creek - Andrews', 'Carrara', 'Highland Park', 'Nerang - Mount Nathan', 'Pacific Pines - Gaven', 'Worongary - Tallai', 'Coomera', 'Helensvale', 'Hope Island', 'Jacobs Well - Alberton', 'Ormeau - Yatala', 'Oxenford - Maudsland', 'Pimpama', 'Upper Coomera - Willow Vale', 'Clear Island Waters', 'Merrimac', 'Robina', 'Varsity Lakes', 'Ashmore', 'Molendinar', 'Parkwood', 'Benowa', 'Bundall', 'Main Beach', 'Surfers Paradise', 'Darra - Sumner', 'Durack', 'Forest Lake - Doolandella', 'Inala - Richlands', 'Oxley (Qld)', 'Wacol', 'Boonah', 'Esk', 'Lockyer Valley - East', 'Lowood', 'Rosewood', 'Brassall', 'Bundamba', 'Churchill - Yamanto', 'Ipswich - Central', 'Ipswich - East', 'Ipswich - North', 'Karalee - Barellan Point', 'Karana Downs', 'Leichhardt - One Mile', 'North Ipswich - Tivoli', 'Raceview', 'Ripley', 'Riverview', 'Bellbird Park - Brookwater', 'Camira - Gailes', 'Collingwood Park - Redbank', 'Goodna', 'Redbank Plains', 'Springfield', 'Springfield Lakes', 'Beaudesert', 'Beenleigh', 'Eagleby', 'Edens Landing - Holmview', 'Mount Warren Park', 'Wolffdene - Bahrs Scrub', 'Boronia Heights - Park Ridge', 'Browns Plains', 'Chambers Flat - Logan Reserve', 'Crestmead', 'Hillcrest', 'Marsden', 'Munruben - Park Ridge South', 'Regents Park - Heritage Park', 'Greenbank', 'Jimboomba', 'Logan Village', 'Bethania - Waterford', 'Cornubia - Carbrook', 'Loganholme - Tanah Merah', 'Loganlea', 'Shailer Park', 'Waterford West', 'Daisy Hill', 'Kingston (Qld.)', 'Logan Central', 'Rochedale South - Priestdale', 'Slacks Creek', 'Springwood', 'Underwood', 'Woodridge', 'Bowen', 'Broadsound - Nebo', 'Clermont', 'Collinsville', 'Moranbah', 'Andergrove - Beaconsfield', 'East Mackay', 'Eimeo - Rural View', 'Eungella Hinterland', 'Mackay', 'Mackay Harbour', 'Mount Pleasant - Glenella', 'North Mackay', 'Ooralea - Bakers Creek', 'Pioneer Valley', 'Sarina', 'Seaforth - Calen', 'Shoal Point - Bucasia', 'Slade Point', 'South Mackay', 'Walkerston - Eton', 'West Mackay', 'Airlie - Whitsundays', 'Proserpine', 'Beachmere - Sandstone Point', 'Bribie Island', 'Burpengary - East', 'Caboolture', 'Caboolture - South', 'Elimbah', 'Morayfield - East', 'Wamuran', 'Kilcoy', \"Woodford - D'Aguilar\", 'Burpengary', 'Deception Bay', 'Morayfield', 'Narangba', 'Upper Caboolture', 'Clontarf', 'Margate - Woody Point', 'Redcliffe', 'Rothwell - Kippa-Ring', 'Albany Creek', 'Cashmere', 'Dayboro', 'Eatons Hill', 'The Hills District', 'Samford Valley', 'Dakabin - Kallangur', 'Murrumba Downs - Griffin', 'North Lakes - Mango Hill', 'Bray Park', 'Lawnton', 'Petrie', 'Strathpine - Brendale', 'Aurukun', 'Cape York', 'Croydon - Etheridge', 'Kowanyama - Pormpuraaw', 'Northern Peninsula', 'Tablelands', 'Torres', 'Torres Strait Islands', 'Weipa', 'Carpentaria', 'Mount Isa', 'Mount Isa Region', 'Northern Highlands', 'Barcaldine - Blackall', 'Charleville', 'Far Central West', 'Far South West', 'Longreach', 'Buderim - North', 'Buderim - South', 'Mountain Creek', 'Sippy Downs', 'Aroona - Currimundi', 'Buddina - Minyama', 'Caloundra - Kings Beach', 'Caloundra - West', 'Golden Beach - Pelican Waters', 'Moffat Beach - Battery Hill', 'Parrearra - Warana', 'Wurtulla - Birtinya', 'Coolum Beach', 'Marcoola - Mudjimba', 'Maroochydore - Kuluin', 'Mooloolaba - Alexandra Headland', 'Noosa Heads', 'Noosaville', 'Sunshine Beach', 'Tewantin', 'Beerwah', 'Caloundra Hinterland', 'Glass House Mountains', 'Landsborough', 'Maroochy Hinterland', 'Palmwoods', 'Cambooya - Wyreema', 'Darling Heights', 'Drayton - Harristown', 'Gatton', 'Gowrie (Qld)', 'Highfields', 'Lockyer Valley - West', 'Middle Ridge', 'Newtown (Qld)', 'North Toowoomba - Harlaxton', 'Rangeville', 'Toowoomba - Central', 'Toowoomba - East', 'Toowoomba - West', 'Wilsonton', 'Ayr', 'Burdekin', 'Charters Towers', 'Dalrymple', 'Ingham', 'Ingham Region', 'Palm Island', 'Aitkenvale', 'Annandale', 'Belgian Gardens - Pallarenda', 'Bohle Plains', 'Condon - Rasmussen', 'Cranbrook', 'Deeragun', 'Douglas', 'Garbutt - West End', 'Gulliver - Currajong - Vincent', 'Heatley', 'Hermit Park - Rosslea', 'Hyde Park - Pimlico', 'Kelso', 'Kirwan - East', 'Kirwan - West', 'Magnetic Island', 'Mount Louisa', 'Mundingburra', 'Northern Beaches', 'Oonoonba', 'South Townsville - Railway Estate', 'Townsville - South', 'Townsville City - North Ward', 'Wulguru - Roseneath', 'Ashfield - Kepnock', 'Bargara - Burnett Heads', 'Branyan - Kensington', 'Bundaberg', 'Bundaberg East - Kalkie', 'Bundaberg North - Gooburrum', 'Bundaberg Region - North', 'Bundaberg Region - South', 'Millbank - Avoca', 'Svensson Heights - Norville', 'Walkervale - Avenell Heights', 'Gayndah - Mundubbera', 'Gin Gin', 'Kingaroy', 'Kingaroy Region - North', 'Kingaroy Region - South', 'Monto - Eidsvold', 'Nanango', 'Cooloola', 'Gympie - North', 'Gympie - South', 'Gympie Region', 'Kilkivan', 'Booral - River Heads', 'Craignish - Dundowran Beach', 'Pialba - Eli Waters', 'Point Vernon', 'Torquay - Scarness - Kawungan', 'Urangan - Wondunna', 'Burrum - Fraser', 'Granville', 'Maryborough (Qld)', 'Maryborough Region - South', 'Tinana', 'Redland Islands', 'Banana', 'Biloela', 'Agnes Water - Miriam Vale', 'Boyne Island - Tannum Sands', 'Callemondah', 'Clinton - New Auckland', 'Gladstone', 'Gladstone Hinterland', 'Kin Kora - Sun Valley', 'Telina - Toolooa', 'West Gladstone', 'Southport - North', 'Southport - South', 'Scarborough - Newport - Moreton Island', 'Peregian Beach - Marcus Beach', 'Peregian Springs', 'Bli Bli', 'Diddillibah - Rosemount', 'Eumundi - Yandina', 'Nambour', 'Noosa Hinterland']\n"
     ]
    }
   ],
   "source": [
    "# read study area sa2 list\n",
    "df = pd.read_csv(ccq_indices_csv)\n",
    "sa2_list = df[\"sa2name\"].tolist()\n",
    "print(sa2_list)\n"
   ],
   "metadata": {
    "collapsed": false,
    "ExecuteTime": {
     "end_time": "2023-12-17T10:04:18.451366300Z",
     "start_time": "2023-12-17T10:04:18.374268700Z"
    }
   },
   "id": "6fdf6ffa8ccd1b41"
  },
  {
   "cell_type": "code",
   "execution_count": 6,
   "outputs": [],
   "source": [
    "# refine sa2_boundary_shp to study area\n",
    "sa2_boundary_gdf = gpd.read_file(sa2_boundary_shp)\n",
    "sa2_boundary_gdf = sa2_boundary_gdf[sa2_boundary_gdf[\"SA2_NAME21\"].isin(sa2_list)]\n",
    "sa2_boundary_gdf = sa2_boundary_gdf[[\"SA2_NAME21\", \"geometry\"]]\n",
    "sa2_boundary_gdf.to_file(\"../../../_data/archive/ccq_nhsd/ccq_sa2_study_area_2021.shp\")"
   ],
   "metadata": {
    "collapsed": false
   },
   "id": "dada80690f322bfe"
  },
  {
   "cell_type": "code",
   "execution_count": null,
   "outputs": [],
   "source": [],
   "metadata": {
    "collapsed": false
   },
   "id": "d041ca8cba3797f8"
  }
 ],
 "metadata": {
  "kernelspec": {
   "display_name": "Python 3",
   "language": "python",
   "name": "python3"
  },
  "language_info": {
   "codemirror_mode": {
    "name": "ipython",
    "version": 2
   },
   "file_extension": ".py",
   "mimetype": "text/x-python",
   "name": "python",
   "nbconvert_exporter": "python",
   "pygments_lexer": "ipython2",
   "version": "2.7.6"
  }
 },
 "nbformat": 4,
 "nbformat_minor": 5
}
