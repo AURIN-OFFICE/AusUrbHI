{
 "cells": [
  {
   "cell_type": "code",
   "execution_count": 1,
   "id": "initial_id",
   "metadata": {
    "collapsed": true,
    "ExecuteTime": {
     "end_time": "2023-11-21T05:52:03.495928600Z",
     "start_time": "2023-11-21T05:52:02.004340Z"
    }
   },
   "outputs": [],
   "source": [
    "import pandas as pd\n",
    "import geopandas as gpd\n",
    "from tqdm import tqdm"
   ]
  },
  {
   "cell_type": "code",
   "execution_count": 3,
   "outputs": [
    {
     "name": "stdout",
     "output_type": "stream",
     "text": [
      "Data loaded.\n"
     ]
    }
   ],
   "source": [
    "building_gdf = gpd.read_file(\"../_data/AusUrbHI HVI data unprocessed/Geoscape/temporary/buildings_in_study_area.shp\")\n",
    "meshblock_gdf = gpd.read_file(\"../_data/study area/meshblock_study_area_2021.shp\")\n",
    "study_area_gdf = gpd.read_file(\"../_data/study area/ausurbhi_study_area_2021.shp\")\n",
    "print(\"Data loaded.\")"
   ],
   "metadata": {
    "collapsed": false,
    "ExecuteTime": {
     "end_time": "2023-11-21T06:22:48.209169400Z",
     "start_time": "2023-11-21T05:52:13.830984500Z"
    }
   },
   "id": "593608406cda81dd"
  },
  {
   "cell_type": "code",
   "execution_count": 11,
   "outputs": [],
   "source": [
    "class StudyAreaProcessor:\n",
    "    def __init__(self, meshblock_gdf, study_area_gdf, building_gdf):\n",
    "        \"\"\"\n",
    "        Initialize the processor with meshblock, study area, and building dataframes.\n",
    "        \"\"\"\n",
    "        self.meshblock_gdf = meshblock_gdf\n",
    "        self.study_area_gdf = study_area_gdf\n",
    "        self.building_gdf = building_gdf\n",
    "\n",
    "    def preprocessing(self):\n",
    "        \"\"\"\n",
    "        Preprocess the data: compute study area dictionary and group buildings by SA1.\n",
    "        \"\"\"\n",
    "        # Create a dictionary of SA1 area\n",
    "        self.sa1_area_dict = self.study_area_gdf.set_index('SA1_CODE21')['AREASQKM21'].to_dict()\n",
    "        \n",
    "        # Group buildings by SA1\n",
    "        self.grouped_buildings = self.building_gdf.groupby('SA1_CODE21')\n",
    "        print(f\"{len(self.grouped_buildings.groups)} grouped, {len(self.study_area_gdf)} total study areas.\")\n",
    "    \n",
    "    @staticmethod\n",
    "    def compute_luminance(hex):\n",
    "        \"\"\"\n",
    "        Compute luminance from hex code.\n",
    "        \"\"\"\n",
    "        def hex_to_rgb(value):\n",
    "            value = value.lstrip('#')\n",
    "            length = len(value)\n",
    "            return tuple(int(value[i:i + length // 3], 16) for i in range(0, length, length // 3))\n",
    "        \n",
    "        rgb = hex_to_rgb(hex)\n",
    "        r, g, b = [x / 255.0 for x in rgb]\n",
    "        return 0.299 * r + 0.587 * g + 0.114 * b\n",
    "        \n",
    "    def compute_fields(self):\n",
    "        \"\"\"\n",
    "        Compute fields for each group of buildings.\n",
    "        \"\"\"\n",
    "        self.results = [\n",
    "            {\n",
    "                'SA1_CODE21': sa1_code,\n",
    "                'SP_ADJ': round(group_data['SP_ADJ'].str.contains('Yes', case=False, na=False).sum()\n",
    "                                / len(group_data), 2),\n",
    "                'ROOF_HGT': round(group_data['ROOF_HGT'].mean(), 2),\n",
    "                'MAT_Tile': round(group_data['PR_RF_MAT'].value_counts().get('Tile', 0) / len(group_data), 2),\n",
    "                'MAT_Metal': round(group_data['PR_RF_MAT'].value_counts().get('Metal', 0) / len(group_data), 2),\n",
    "                'MAT_Concre': round(group_data['PR_RF_MAT'].value_counts().get('Flat Concrete', 0) /\n",
    "                                    len(group_data), 2),\n",
    "\n",
    "                'LRF_PCT_2': round((group_data['ROOF_CLR'].dropna().apply(self.compute_luminance) <= 0.3).sum() /\n",
    "                                   len(group_data['ROOF_CLR'].dropna()), 2),\n",
    "                'LRF_PCT_3': round((group_data['ROOF_CLR'].dropna().apply(self.compute_luminance) <= 0.4).sum() /\n",
    "                                   len(group_data['ROOF_CLR'].dropna()), 2),\n",
    "                'LRF_PCT_4': round((group_data['ROOF_CLR'].dropna().apply(self.compute_luminance) <= 0.5).sum() /\n",
    "                                   len(group_data['ROOF_CLR'].dropna()), 2),\n",
    "\n",
    "                'LAE_PCT_2': round(\n",
    "                    group_data.loc[group_data['ROOF_CLR'].dropna().apply(self.compute_luminance) <= 0.3, 'AREA'].sum() /\n",
    "                    group_data['AREA'].sum(), 2\n",
    "                ),\n",
    "                'LAE_PCT_3': round(\n",
    "                    group_data.loc[group_data['ROOF_CLR'].dropna().apply(self.compute_luminance) <= 0.4, 'AREA'].sum() /\n",
    "                    group_data['AREA'].sum(), 2\n",
    "                ),\n",
    "                'LAE_PCT_4': round(\n",
    "                    group_data.loc[group_data['ROOF_CLR'].dropna().apply(self.compute_luminance) <= 0.5, 'AREA'].sum() /\n",
    "                    group_data['AREA'].sum(), 2\n",
    "                ),\n",
    "\n",
    "                'AREA_PCT': round(group_data['AREA'].sum() / (self.sa1_area_dict[sa1_code] * 1e6), 2),\n",
    "                'EST_LEV': round(group_data['EST_LEV'].mean(), 2)\n",
    "            }\n",
    "            for sa1_code, group_data in \n",
    "            tqdm(self.grouped_buildings, total=len(self.grouped_buildings), desc=\"processing buildings\")\n",
    "        ]\n",
    "\n",
    "    def save_output(self, output_path):\n",
    "        \"\"\"\n",
    "        Save the results to a specified path.\n",
    "        \"\"\"\n",
    "        result_df = pd.DataFrame(self.results)\n",
    "        merged_df = result_df.merge(self.study_area_gdf[['SA1_CODE21', 'geometry']], on='SA1_CODE21', how='left')\n",
    "        new_gdf = gpd.GeoDataFrame(merged_df, geometry='geometry', crs=self.study_area_gdf.crs)\n",
    "        new_gdf.to_file(output_path)\n"
   ],
   "metadata": {
    "collapsed": false,
    "ExecuteTime": {
     "end_time": "2023-11-21T09:48:19.057249300Z",
     "start_time": "2023-11-21T09:48:19.026360100Z"
    }
   },
   "id": "1c29b8fecd35af17"
  },
  {
   "cell_type": "code",
   "execution_count": 12,
   "outputs": [
    {
     "name": "stdout",
     "output_type": "stream",
     "text": [
      "13491 grouped, 13537 total study areas.\n",
      "Grouping done.\n"
     ]
    }
   ],
   "source": [
    "# Process data\n",
    "processor = StudyAreaProcessor(meshblock_gdf, study_area_gdf, building_gdf)\n",
    "processor.preprocessing()\n",
    "print(\"Grouping done.\")"
   ],
   "metadata": {
    "collapsed": false,
    "ExecuteTime": {
     "end_time": "2023-11-21T09:50:23.515016300Z",
     "start_time": "2023-11-21T09:50:21.664553700Z"
    }
   },
   "id": "e60128fb4fe72d23"
  },
  {
   "cell_type": "code",
   "execution_count": 13,
   "outputs": [
    {
     "name": "stderr",
     "output_type": "stream",
     "text": [
      "\n",
      "\n",
      "\n",
      "processing buildings:   0%|          | 0/13491 [00:00<?, ?it/s]\u001B[A\u001B[A\u001B[A"
     ]
    },
    {
     "ename": "AssertionError",
     "evalue": "",
     "output_type": "error",
     "traceback": [
      "\u001B[1;31m---------------------------------------------------------------------------\u001B[0m",
      "\u001B[1;31mAssertionError\u001B[0m                            Traceback (most recent call last)",
      "Cell \u001B[1;32mIn[13], line 1\u001B[0m\n\u001B[1;32m----> 1\u001B[0m \u001B[43mprocessor\u001B[49m\u001B[38;5;241;43m.\u001B[39;49m\u001B[43mcompute_fields\u001B[49m\u001B[43m(\u001B[49m\u001B[43m)\u001B[49m\n\u001B[0;32m      2\u001B[0m \u001B[38;5;28mprint\u001B[39m(\u001B[38;5;124m\"\u001B[39m\u001B[38;5;124mComputing done.\u001B[39m\u001B[38;5;124m\"\u001B[39m)\n",
      "Cell \u001B[1;32mIn[11], line 39\u001B[0m, in \u001B[0;36mStudyAreaProcessor.compute_fields\u001B[1;34m(self)\u001B[0m\n\u001B[0;32m     35\u001B[0m \u001B[38;5;28;01mdef\u001B[39;00m \u001B[38;5;21mcompute_fields\u001B[39m(\u001B[38;5;28mself\u001B[39m):\n\u001B[0;32m     36\u001B[0m \u001B[38;5;250m    \u001B[39m\u001B[38;5;124;03m\"\"\"\u001B[39;00m\n\u001B[0;32m     37\u001B[0m \u001B[38;5;124;03m    Compute fields for each group of buildings.\u001B[39;00m\n\u001B[0;32m     38\u001B[0m \u001B[38;5;124;03m    \"\"\"\u001B[39;00m\n\u001B[1;32m---> 39\u001B[0m     \u001B[38;5;28mself\u001B[39m\u001B[38;5;241m.\u001B[39mresults \u001B[38;5;241m=\u001B[39m \u001B[43m[\u001B[49m\n\u001B[0;32m     40\u001B[0m \u001B[43m        \u001B[49m\u001B[43m{\u001B[49m\n\u001B[0;32m     41\u001B[0m \u001B[43m            \u001B[49m\u001B[38;5;124;43m'\u001B[39;49m\u001B[38;5;124;43mSA1_CODE21\u001B[39;49m\u001B[38;5;124;43m'\u001B[39;49m\u001B[43m:\u001B[49m\u001B[43m \u001B[49m\u001B[43msa1_code\u001B[49m\u001B[43m,\u001B[49m\n\u001B[0;32m     42\u001B[0m \u001B[43m            \u001B[49m\u001B[38;5;124;43m'\u001B[39;49m\u001B[38;5;124;43mSP_ADJ\u001B[39;49m\u001B[38;5;124;43m'\u001B[39;49m\u001B[43m:\u001B[49m\u001B[43m \u001B[49m\u001B[38;5;28;43mround\u001B[39;49m\u001B[43m(\u001B[49m\u001B[43mgroup_data\u001B[49m\u001B[43m[\u001B[49m\u001B[38;5;124;43m'\u001B[39;49m\u001B[38;5;124;43mSP_ADJ\u001B[39;49m\u001B[38;5;124;43m'\u001B[39;49m\u001B[43m]\u001B[49m\u001B[38;5;241;43m.\u001B[39;49m\u001B[43mstr\u001B[49m\u001B[38;5;241;43m.\u001B[39;49m\u001B[43mcontains\u001B[49m\u001B[43m(\u001B[49m\u001B[38;5;124;43m'\u001B[39;49m\u001B[38;5;124;43mYes\u001B[39;49m\u001B[38;5;124;43m'\u001B[39;49m\u001B[43m,\u001B[49m\u001B[43m \u001B[49m\u001B[43mcase\u001B[49m\u001B[38;5;241;43m=\u001B[39;49m\u001B[38;5;28;43;01mFalse\u001B[39;49;00m\u001B[43m,\u001B[49m\u001B[43m \u001B[49m\u001B[43mna\u001B[49m\u001B[38;5;241;43m=\u001B[39;49m\u001B[38;5;28;43;01mFalse\u001B[39;49;00m\u001B[43m)\u001B[49m\u001B[38;5;241;43m.\u001B[39;49m\u001B[43msum\u001B[49m\u001B[43m(\u001B[49m\u001B[43m)\u001B[49m\n\u001B[0;32m     43\u001B[0m \u001B[43m                            \u001B[49m\u001B[38;5;241;43m/\u001B[39;49m\u001B[43m \u001B[49m\u001B[38;5;28;43mlen\u001B[39;49m\u001B[43m(\u001B[49m\u001B[43mgroup_data\u001B[49m\u001B[43m)\u001B[49m\u001B[43m,\u001B[49m\u001B[43m \u001B[49m\u001B[38;5;241;43m2\u001B[39;49m\u001B[43m)\u001B[49m\u001B[43m,\u001B[49m\n\u001B[0;32m     44\u001B[0m \u001B[43m            \u001B[49m\u001B[38;5;124;43m'\u001B[39;49m\u001B[38;5;124;43mROOF_HGT\u001B[39;49m\u001B[38;5;124;43m'\u001B[39;49m\u001B[43m:\u001B[49m\u001B[43m \u001B[49m\u001B[38;5;28;43mround\u001B[39;49m\u001B[43m(\u001B[49m\u001B[43mgroup_data\u001B[49m\u001B[43m[\u001B[49m\u001B[38;5;124;43m'\u001B[39;49m\u001B[38;5;124;43mROOF_HGT\u001B[39;49m\u001B[38;5;124;43m'\u001B[39;49m\u001B[43m]\u001B[49m\u001B[38;5;241;43m.\u001B[39;49m\u001B[43mmean\u001B[49m\u001B[43m(\u001B[49m\u001B[43m)\u001B[49m\u001B[43m,\u001B[49m\u001B[43m \u001B[49m\u001B[38;5;241;43m2\u001B[39;49m\u001B[43m)\u001B[49m\u001B[43m,\u001B[49m\n\u001B[0;32m     45\u001B[0m \u001B[43m            \u001B[49m\u001B[38;5;124;43m'\u001B[39;49m\u001B[38;5;124;43mMAT_Tile\u001B[39;49m\u001B[38;5;124;43m'\u001B[39;49m\u001B[43m:\u001B[49m\u001B[43m \u001B[49m\u001B[38;5;28;43mround\u001B[39;49m\u001B[43m(\u001B[49m\u001B[43mgroup_data\u001B[49m\u001B[43m[\u001B[49m\u001B[38;5;124;43m'\u001B[39;49m\u001B[38;5;124;43mPR_RF_MAT\u001B[39;49m\u001B[38;5;124;43m'\u001B[39;49m\u001B[43m]\u001B[49m\u001B[38;5;241;43m.\u001B[39;49m\u001B[43mvalue_counts\u001B[49m\u001B[43m(\u001B[49m\u001B[43m)\u001B[49m\u001B[38;5;241;43m.\u001B[39;49m\u001B[43mget\u001B[49m\u001B[43m(\u001B[49m\u001B[38;5;124;43m'\u001B[39;49m\u001B[38;5;124;43mTile\u001B[39;49m\u001B[38;5;124;43m'\u001B[39;49m\u001B[43m,\u001B[49m\u001B[43m \u001B[49m\u001B[38;5;241;43m0\u001B[39;49m\u001B[43m)\u001B[49m\u001B[43m \u001B[49m\u001B[38;5;241;43m/\u001B[39;49m\u001B[43m \u001B[49m\u001B[38;5;28;43mlen\u001B[39;49m\u001B[43m(\u001B[49m\u001B[43mgroup_data\u001B[49m\u001B[43m)\u001B[49m\u001B[43m,\u001B[49m\u001B[43m \u001B[49m\u001B[38;5;241;43m2\u001B[39;49m\u001B[43m)\u001B[49m\u001B[43m,\u001B[49m\n\u001B[0;32m     46\u001B[0m \u001B[43m            \u001B[49m\u001B[38;5;124;43m'\u001B[39;49m\u001B[38;5;124;43mMAT_Metal\u001B[39;49m\u001B[38;5;124;43m'\u001B[39;49m\u001B[43m:\u001B[49m\u001B[43m \u001B[49m\u001B[38;5;28;43mround\u001B[39;49m\u001B[43m(\u001B[49m\u001B[43mgroup_data\u001B[49m\u001B[43m[\u001B[49m\u001B[38;5;124;43m'\u001B[39;49m\u001B[38;5;124;43mPR_RF_MAT\u001B[39;49m\u001B[38;5;124;43m'\u001B[39;49m\u001B[43m]\u001B[49m\u001B[38;5;241;43m.\u001B[39;49m\u001B[43mvalue_counts\u001B[49m\u001B[43m(\u001B[49m\u001B[43m)\u001B[49m\u001B[38;5;241;43m.\u001B[39;49m\u001B[43mget\u001B[49m\u001B[43m(\u001B[49m\u001B[38;5;124;43m'\u001B[39;49m\u001B[38;5;124;43mMetal\u001B[39;49m\u001B[38;5;124;43m'\u001B[39;49m\u001B[43m,\u001B[49m\u001B[43m \u001B[49m\u001B[38;5;241;43m0\u001B[39;49m\u001B[43m)\u001B[49m\u001B[43m \u001B[49m\u001B[38;5;241;43m/\u001B[39;49m\u001B[43m \u001B[49m\u001B[38;5;28;43mlen\u001B[39;49m\u001B[43m(\u001B[49m\u001B[43mgroup_data\u001B[49m\u001B[43m)\u001B[49m\u001B[43m,\u001B[49m\u001B[43m \u001B[49m\u001B[38;5;241;43m2\u001B[39;49m\u001B[43m)\u001B[49m\u001B[43m,\u001B[49m\n\u001B[0;32m     47\u001B[0m \u001B[43m            \u001B[49m\u001B[38;5;124;43m'\u001B[39;49m\u001B[38;5;124;43mMAT_Concre\u001B[39;49m\u001B[38;5;124;43m'\u001B[39;49m\u001B[43m:\u001B[49m\u001B[43m \u001B[49m\u001B[38;5;28;43mround\u001B[39;49m\u001B[43m(\u001B[49m\u001B[43mgroup_data\u001B[49m\u001B[43m[\u001B[49m\u001B[38;5;124;43m'\u001B[39;49m\u001B[38;5;124;43mPR_RF_MAT\u001B[39;49m\u001B[38;5;124;43m'\u001B[39;49m\u001B[43m]\u001B[49m\u001B[38;5;241;43m.\u001B[39;49m\u001B[43mvalue_counts\u001B[49m\u001B[43m(\u001B[49m\u001B[43m)\u001B[49m\u001B[38;5;241;43m.\u001B[39;49m\u001B[43mget\u001B[49m\u001B[43m(\u001B[49m\u001B[38;5;124;43m'\u001B[39;49m\u001B[38;5;124;43mFlat Concrete\u001B[39;49m\u001B[38;5;124;43m'\u001B[39;49m\u001B[43m,\u001B[49m\u001B[43m \u001B[49m\u001B[38;5;241;43m0\u001B[39;49m\u001B[43m)\u001B[49m\u001B[43m \u001B[49m\u001B[38;5;241;43m/\u001B[39;49m\n\u001B[0;32m     48\u001B[0m \u001B[43m                                \u001B[49m\u001B[38;5;28;43mlen\u001B[39;49m\u001B[43m(\u001B[49m\u001B[43mgroup_data\u001B[49m\u001B[43m)\u001B[49m\u001B[43m,\u001B[49m\u001B[43m \u001B[49m\u001B[38;5;241;43m2\u001B[39;49m\u001B[43m)\u001B[49m\u001B[43m,\u001B[49m\n\u001B[0;32m     49\u001B[0m \n\u001B[0;32m     50\u001B[0m \u001B[43m            \u001B[49m\u001B[38;5;124;43m'\u001B[39;49m\u001B[38;5;124;43mLRF_PCT_2\u001B[39;49m\u001B[38;5;124;43m'\u001B[39;49m\u001B[43m:\u001B[49m\u001B[43m \u001B[49m\u001B[38;5;28;43mround\u001B[39;49m\u001B[43m(\u001B[49m\u001B[43m(\u001B[49m\u001B[43mgroup_data\u001B[49m\u001B[43m[\u001B[49m\u001B[38;5;124;43m'\u001B[39;49m\u001B[38;5;124;43mROOF_CLR\u001B[39;49m\u001B[38;5;124;43m'\u001B[39;49m\u001B[43m]\u001B[49m\u001B[38;5;241;43m.\u001B[39;49m\u001B[43mdropna\u001B[49m\u001B[43m(\u001B[49m\u001B[43m)\u001B[49m\u001B[38;5;241;43m.\u001B[39;49m\u001B[43mapply\u001B[49m\u001B[43m(\u001B[49m\u001B[38;5;28;43mself\u001B[39;49m\u001B[38;5;241;43m.\u001B[39;49m\u001B[43mcompute_luminance\u001B[49m\u001B[43m)\u001B[49m\u001B[43m \u001B[49m\u001B[38;5;241;43m<\u001B[39;49m\u001B[38;5;241;43m=\u001B[39;49m\u001B[43m \u001B[49m\u001B[38;5;241;43m0.3\u001B[39;49m\u001B[43m)\u001B[49m\u001B[38;5;241;43m.\u001B[39;49m\u001B[43msum\u001B[49m\u001B[43m(\u001B[49m\u001B[43m)\u001B[49m\u001B[43m \u001B[49m\u001B[38;5;241;43m/\u001B[39;49m\n\u001B[0;32m     51\u001B[0m \u001B[43m                               \u001B[49m\u001B[38;5;28;43mlen\u001B[39;49m\u001B[43m(\u001B[49m\u001B[43mgroup_data\u001B[49m\u001B[43m[\u001B[49m\u001B[38;5;124;43m'\u001B[39;49m\u001B[38;5;124;43mROOF_CLR\u001B[39;49m\u001B[38;5;124;43m'\u001B[39;49m\u001B[43m]\u001B[49m\u001B[38;5;241;43m.\u001B[39;49m\u001B[43mdropna\u001B[49m\u001B[43m(\u001B[49m\u001B[43m)\u001B[49m\u001B[43m)\u001B[49m\u001B[43m,\u001B[49m\u001B[43m \u001B[49m\u001B[38;5;241;43m2\u001B[39;49m\u001B[43m)\u001B[49m\u001B[43m,\u001B[49m\n\u001B[0;32m     52\u001B[0m \u001B[43m            \u001B[49m\u001B[38;5;124;43m'\u001B[39;49m\u001B[38;5;124;43mLRF_PCT_3\u001B[39;49m\u001B[38;5;124;43m'\u001B[39;49m\u001B[43m:\u001B[49m\u001B[43m \u001B[49m\u001B[38;5;28;43mround\u001B[39;49m\u001B[43m(\u001B[49m\u001B[43m(\u001B[49m\u001B[43mgroup_data\u001B[49m\u001B[43m[\u001B[49m\u001B[38;5;124;43m'\u001B[39;49m\u001B[38;5;124;43mROOF_CLR\u001B[39;49m\u001B[38;5;124;43m'\u001B[39;49m\u001B[43m]\u001B[49m\u001B[38;5;241;43m.\u001B[39;49m\u001B[43mdropna\u001B[49m\u001B[43m(\u001B[49m\u001B[43m)\u001B[49m\u001B[38;5;241;43m.\u001B[39;49m\u001B[43mapply\u001B[49m\u001B[43m(\u001B[49m\u001B[38;5;28;43mself\u001B[39;49m\u001B[38;5;241;43m.\u001B[39;49m\u001B[43mcompute_luminance\u001B[49m\u001B[43m)\u001B[49m\u001B[43m \u001B[49m\u001B[38;5;241;43m<\u001B[39;49m\u001B[38;5;241;43m=\u001B[39;49m\u001B[43m \u001B[49m\u001B[38;5;241;43m0.4\u001B[39;49m\u001B[43m)\u001B[49m\u001B[38;5;241;43m.\u001B[39;49m\u001B[43msum\u001B[49m\u001B[43m(\u001B[49m\u001B[43m)\u001B[49m\u001B[43m \u001B[49m\u001B[38;5;241;43m/\u001B[39;49m\n\u001B[0;32m     53\u001B[0m \u001B[43m                               \u001B[49m\u001B[38;5;28;43mlen\u001B[39;49m\u001B[43m(\u001B[49m\u001B[43mgroup_data\u001B[49m\u001B[43m[\u001B[49m\u001B[38;5;124;43m'\u001B[39;49m\u001B[38;5;124;43mROOF_CLR\u001B[39;49m\u001B[38;5;124;43m'\u001B[39;49m\u001B[43m]\u001B[49m\u001B[38;5;241;43m.\u001B[39;49m\u001B[43mdropna\u001B[49m\u001B[43m(\u001B[49m\u001B[43m)\u001B[49m\u001B[43m)\u001B[49m\u001B[43m,\u001B[49m\u001B[43m \u001B[49m\u001B[38;5;241;43m2\u001B[39;49m\u001B[43m)\u001B[49m\u001B[43m,\u001B[49m\n\u001B[0;32m     54\u001B[0m \u001B[43m            \u001B[49m\u001B[38;5;124;43m'\u001B[39;49m\u001B[38;5;124;43mLRF_PCT_4\u001B[39;49m\u001B[38;5;124;43m'\u001B[39;49m\u001B[43m:\u001B[49m\u001B[43m \u001B[49m\u001B[38;5;28;43mround\u001B[39;49m\u001B[43m(\u001B[49m\u001B[43m(\u001B[49m\u001B[43mgroup_data\u001B[49m\u001B[43m[\u001B[49m\u001B[38;5;124;43m'\u001B[39;49m\u001B[38;5;124;43mROOF_CLR\u001B[39;49m\u001B[38;5;124;43m'\u001B[39;49m\u001B[43m]\u001B[49m\u001B[38;5;241;43m.\u001B[39;49m\u001B[43mdropna\u001B[49m\u001B[43m(\u001B[49m\u001B[43m)\u001B[49m\u001B[38;5;241;43m.\u001B[39;49m\u001B[43mapply\u001B[49m\u001B[43m(\u001B[49m\u001B[38;5;28;43mself\u001B[39;49m\u001B[38;5;241;43m.\u001B[39;49m\u001B[43mcompute_luminance\u001B[49m\u001B[43m)\u001B[49m\u001B[43m \u001B[49m\u001B[38;5;241;43m<\u001B[39;49m\u001B[38;5;241;43m=\u001B[39;49m\u001B[43m \u001B[49m\u001B[38;5;241;43m0.5\u001B[39;49m\u001B[43m)\u001B[49m\u001B[38;5;241;43m.\u001B[39;49m\u001B[43msum\u001B[49m\u001B[43m(\u001B[49m\u001B[43m)\u001B[49m\u001B[43m \u001B[49m\u001B[38;5;241;43m/\u001B[39;49m\n\u001B[0;32m     55\u001B[0m \u001B[43m                               \u001B[49m\u001B[38;5;28;43mlen\u001B[39;49m\u001B[43m(\u001B[49m\u001B[43mgroup_data\u001B[49m\u001B[43m[\u001B[49m\u001B[38;5;124;43m'\u001B[39;49m\u001B[38;5;124;43mROOF_CLR\u001B[39;49m\u001B[38;5;124;43m'\u001B[39;49m\u001B[43m]\u001B[49m\u001B[38;5;241;43m.\u001B[39;49m\u001B[43mdropna\u001B[49m\u001B[43m(\u001B[49m\u001B[43m)\u001B[49m\u001B[43m)\u001B[49m\u001B[43m,\u001B[49m\u001B[43m \u001B[49m\u001B[38;5;241;43m2\u001B[39;49m\u001B[43m)\u001B[49m\u001B[43m,\u001B[49m\n\u001B[0;32m     56\u001B[0m \n\u001B[0;32m     57\u001B[0m \u001B[43m            \u001B[49m\u001B[38;5;124;43m'\u001B[39;49m\u001B[38;5;124;43mLAE_PCT_2\u001B[39;49m\u001B[38;5;124;43m'\u001B[39;49m\u001B[43m:\u001B[49m\u001B[43m \u001B[49m\u001B[38;5;28;43mround\u001B[39;49m\u001B[43m(\u001B[49m\n\u001B[0;32m     58\u001B[0m \u001B[43m                \u001B[49m\u001B[43mgroup_data\u001B[49m\u001B[38;5;241;43m.\u001B[39;49m\u001B[43mloc\u001B[49m\u001B[43m[\u001B[49m\u001B[43mgroup_data\u001B[49m\u001B[43m[\u001B[49m\u001B[38;5;124;43m'\u001B[39;49m\u001B[38;5;124;43mROOF_CLR\u001B[39;49m\u001B[38;5;124;43m'\u001B[39;49m\u001B[43m]\u001B[49m\u001B[38;5;241;43m.\u001B[39;49m\u001B[43mdropna\u001B[49m\u001B[43m(\u001B[49m\u001B[43m)\u001B[49m\u001B[38;5;241;43m.\u001B[39;49m\u001B[43mapply\u001B[49m\u001B[43m(\u001B[49m\u001B[38;5;28;43mself\u001B[39;49m\u001B[38;5;241;43m.\u001B[39;49m\u001B[43mcompute_luminance\u001B[49m\u001B[43m)\u001B[49m\u001B[43m \u001B[49m\u001B[38;5;241;43m<\u001B[39;49m\u001B[38;5;241;43m=\u001B[39;49m\u001B[43m \u001B[49m\u001B[38;5;241;43m0.3\u001B[39;49m\u001B[43m,\u001B[49m\u001B[43m \u001B[49m\u001B[38;5;124;43m'\u001B[39;49m\u001B[38;5;124;43mAREA\u001B[39;49m\u001B[38;5;124;43m'\u001B[39;49m\u001B[43m]\u001B[49m\u001B[38;5;241;43m.\u001B[39;49m\u001B[43msum\u001B[49m\u001B[43m(\u001B[49m\u001B[43m)\u001B[49m\u001B[43m \u001B[49m\u001B[38;5;241;43m/\u001B[39;49m\n\u001B[0;32m     59\u001B[0m \u001B[43m                \u001B[49m\u001B[43m(\u001B[49m\u001B[38;5;28;43mself\u001B[39;49m\u001B[38;5;241;43m.\u001B[39;49m\u001B[43msa1_area_dict\u001B[49m\u001B[43m[\u001B[49m\u001B[43msa1_code\u001B[49m\u001B[43m]\u001B[49m\u001B[43m \u001B[49m\u001B[38;5;241;43m*\u001B[39;49m\u001B[43m \u001B[49m\u001B[38;5;241;43m1e6\u001B[39;49m\u001B[43m)\u001B[49m\u001B[43m,\u001B[49m\u001B[43m \u001B[49m\u001B[38;5;241;43m2\u001B[39;49m\n\u001B[0;32m     60\u001B[0m \u001B[43m            \u001B[49m\u001B[43m)\u001B[49m\u001B[43m,\u001B[49m\n\u001B[0;32m     61\u001B[0m \u001B[43m            \u001B[49m\u001B[38;5;124;43m'\u001B[39;49m\u001B[38;5;124;43mLAE_PCT_3\u001B[39;49m\u001B[38;5;124;43m'\u001B[39;49m\u001B[43m:\u001B[49m\u001B[43m \u001B[49m\u001B[38;5;28;43mround\u001B[39;49m\u001B[43m(\u001B[49m\n\u001B[0;32m     62\u001B[0m \u001B[43m                \u001B[49m\u001B[43mgroup_data\u001B[49m\u001B[38;5;241;43m.\u001B[39;49m\u001B[43mloc\u001B[49m\u001B[43m[\u001B[49m\u001B[43mgroup_data\u001B[49m\u001B[43m[\u001B[49m\u001B[38;5;124;43m'\u001B[39;49m\u001B[38;5;124;43mROOF_CLR\u001B[39;49m\u001B[38;5;124;43m'\u001B[39;49m\u001B[43m]\u001B[49m\u001B[38;5;241;43m.\u001B[39;49m\u001B[43mdropna\u001B[49m\u001B[43m(\u001B[49m\u001B[43m)\u001B[49m\u001B[38;5;241;43m.\u001B[39;49m\u001B[43mapply\u001B[49m\u001B[43m(\u001B[49m\u001B[38;5;28;43mself\u001B[39;49m\u001B[38;5;241;43m.\u001B[39;49m\u001B[43mcompute_luminance\u001B[49m\u001B[43m)\u001B[49m\u001B[43m \u001B[49m\u001B[38;5;241;43m<\u001B[39;49m\u001B[38;5;241;43m=\u001B[39;49m\u001B[43m \u001B[49m\u001B[38;5;241;43m0.4\u001B[39;49m\u001B[43m,\u001B[49m\u001B[43m \u001B[49m\u001B[38;5;124;43m'\u001B[39;49m\u001B[38;5;124;43mAREA\u001B[39;49m\u001B[38;5;124;43m'\u001B[39;49m\u001B[43m]\u001B[49m\u001B[38;5;241;43m.\u001B[39;49m\u001B[43msum\u001B[49m\u001B[43m(\u001B[49m\u001B[43m)\u001B[49m\u001B[43m \u001B[49m\u001B[38;5;241;43m/\u001B[39;49m\n\u001B[0;32m     63\u001B[0m \u001B[43m                \u001B[49m\u001B[43m(\u001B[49m\u001B[38;5;28;43mself\u001B[39;49m\u001B[38;5;241;43m.\u001B[39;49m\u001B[43msa1_area_dict\u001B[49m\u001B[43m[\u001B[49m\u001B[43msa1_code\u001B[49m\u001B[43m]\u001B[49m\u001B[43m \u001B[49m\u001B[38;5;241;43m*\u001B[39;49m\u001B[43m \u001B[49m\u001B[38;5;241;43m1e6\u001B[39;49m\u001B[43m)\u001B[49m\u001B[43m,\u001B[49m\u001B[43m \u001B[49m\u001B[38;5;241;43m2\u001B[39;49m\n\u001B[0;32m     64\u001B[0m \u001B[43m            \u001B[49m\u001B[43m)\u001B[49m\u001B[43m,\u001B[49m\n\u001B[0;32m     65\u001B[0m \u001B[43m            \u001B[49m\u001B[38;5;124;43m'\u001B[39;49m\u001B[38;5;124;43mLAE_PCT_4\u001B[39;49m\u001B[38;5;124;43m'\u001B[39;49m\u001B[43m:\u001B[49m\u001B[43m \u001B[49m\u001B[38;5;28;43mround\u001B[39;49m\u001B[43m(\u001B[49m\n\u001B[0;32m     66\u001B[0m \u001B[43m                \u001B[49m\u001B[43mgroup_data\u001B[49m\u001B[38;5;241;43m.\u001B[39;49m\u001B[43mloc\u001B[49m\u001B[43m[\u001B[49m\u001B[43mgroup_data\u001B[49m\u001B[43m[\u001B[49m\u001B[38;5;124;43m'\u001B[39;49m\u001B[38;5;124;43mROOF_CLR\u001B[39;49m\u001B[38;5;124;43m'\u001B[39;49m\u001B[43m]\u001B[49m\u001B[38;5;241;43m.\u001B[39;49m\u001B[43mdropna\u001B[49m\u001B[43m(\u001B[49m\u001B[43m)\u001B[49m\u001B[38;5;241;43m.\u001B[39;49m\u001B[43mapply\u001B[49m\u001B[43m(\u001B[49m\u001B[38;5;28;43mself\u001B[39;49m\u001B[38;5;241;43m.\u001B[39;49m\u001B[43mcompute_luminance\u001B[49m\u001B[43m)\u001B[49m\u001B[43m \u001B[49m\u001B[38;5;241;43m<\u001B[39;49m\u001B[38;5;241;43m=\u001B[39;49m\u001B[43m \u001B[49m\u001B[38;5;241;43m0.5\u001B[39;49m\u001B[43m,\u001B[49m\u001B[43m \u001B[49m\u001B[38;5;124;43m'\u001B[39;49m\u001B[38;5;124;43mAREA\u001B[39;49m\u001B[38;5;124;43m'\u001B[39;49m\u001B[43m]\u001B[49m\u001B[38;5;241;43m.\u001B[39;49m\u001B[43msum\u001B[49m\u001B[43m(\u001B[49m\u001B[43m)\u001B[49m\u001B[43m \u001B[49m\u001B[38;5;241;43m/\u001B[39;49m\n\u001B[0;32m     67\u001B[0m \u001B[43m                \u001B[49m\u001B[43m(\u001B[49m\u001B[38;5;28;43mself\u001B[39;49m\u001B[38;5;241;43m.\u001B[39;49m\u001B[43msa1_area_dict\u001B[49m\u001B[43m[\u001B[49m\u001B[43msa1_code\u001B[49m\u001B[43m]\u001B[49m\u001B[43m \u001B[49m\u001B[38;5;241;43m*\u001B[39;49m\u001B[43m \u001B[49m\u001B[38;5;241;43m1e6\u001B[39;49m\u001B[43m)\u001B[49m\u001B[43m,\u001B[49m\u001B[43m \u001B[49m\u001B[38;5;241;43m2\u001B[39;49m\n\u001B[0;32m     68\u001B[0m \u001B[43m            \u001B[49m\u001B[43m)\u001B[49m\u001B[43m,\u001B[49m\n\u001B[0;32m     69\u001B[0m \n\u001B[0;32m     70\u001B[0m \u001B[43m            \u001B[49m\u001B[38;5;124;43m'\u001B[39;49m\u001B[38;5;124;43mAREA_PCT\u001B[39;49m\u001B[38;5;124;43m'\u001B[39;49m\u001B[43m:\u001B[49m\u001B[43m \u001B[49m\u001B[38;5;28;43mround\u001B[39;49m\u001B[43m(\u001B[49m\u001B[43mgroup_data\u001B[49m\u001B[43m[\u001B[49m\u001B[38;5;124;43m'\u001B[39;49m\u001B[38;5;124;43mAREA\u001B[39;49m\u001B[38;5;124;43m'\u001B[39;49m\u001B[43m]\u001B[49m\u001B[38;5;241;43m.\u001B[39;49m\u001B[43msum\u001B[49m\u001B[43m(\u001B[49m\u001B[43m)\u001B[49m\u001B[43m \u001B[49m\u001B[38;5;241;43m/\u001B[39;49m\u001B[43m \u001B[49m\u001B[43m(\u001B[49m\u001B[38;5;28;43mself\u001B[39;49m\u001B[38;5;241;43m.\u001B[39;49m\u001B[43msa1_area_dict\u001B[49m\u001B[43m[\u001B[49m\u001B[43msa1_code\u001B[49m\u001B[43m]\u001B[49m\u001B[43m \u001B[49m\u001B[38;5;241;43m*\u001B[39;49m\u001B[43m \u001B[49m\u001B[38;5;241;43m1e6\u001B[39;49m\u001B[43m)\u001B[49m\u001B[43m,\u001B[49m\u001B[43m \u001B[49m\u001B[38;5;241;43m2\u001B[39;49m\u001B[43m)\u001B[49m\u001B[43m,\u001B[49m\n\u001B[0;32m     71\u001B[0m \u001B[43m            \u001B[49m\u001B[38;5;124;43m'\u001B[39;49m\u001B[38;5;124;43mEST_LEV\u001B[39;49m\u001B[38;5;124;43m'\u001B[39;49m\u001B[43m:\u001B[49m\u001B[43m \u001B[49m\u001B[38;5;28;43mround\u001B[39;49m\u001B[43m(\u001B[49m\u001B[43mgroup_data\u001B[49m\u001B[43m[\u001B[49m\u001B[38;5;124;43m'\u001B[39;49m\u001B[38;5;124;43mEST_LEV\u001B[39;49m\u001B[38;5;124;43m'\u001B[39;49m\u001B[43m]\u001B[49m\u001B[38;5;241;43m.\u001B[39;49m\u001B[43mmean\u001B[49m\u001B[43m(\u001B[49m\u001B[43m)\u001B[49m\u001B[43m,\u001B[49m\u001B[43m \u001B[49m\u001B[38;5;241;43m2\u001B[39;49m\u001B[43m)\u001B[49m\n\u001B[0;32m     72\u001B[0m \u001B[43m        \u001B[49m\u001B[43m}\u001B[49m\n\u001B[0;32m     73\u001B[0m \u001B[43m        \u001B[49m\u001B[38;5;28;43;01mfor\u001B[39;49;00m\u001B[43m \u001B[49m\u001B[43msa1_code\u001B[49m\u001B[43m,\u001B[49m\u001B[43m \u001B[49m\u001B[43mgroup_data\u001B[49m\u001B[43m \u001B[49m\u001B[38;5;129;43;01min\u001B[39;49;00m\u001B[43m \u001B[49m\n\u001B[0;32m     74\u001B[0m \u001B[43m        \u001B[49m\u001B[43mtqdm\u001B[49m\u001B[43m(\u001B[49m\u001B[38;5;28;43mself\u001B[39;49m\u001B[38;5;241;43m.\u001B[39;49m\u001B[43mgrouped_buildings\u001B[49m\u001B[43m,\u001B[49m\u001B[43m \u001B[49m\u001B[43mtotal\u001B[49m\u001B[38;5;241;43m=\u001B[39;49m\u001B[38;5;28;43mlen\u001B[39;49m\u001B[43m(\u001B[49m\u001B[38;5;28;43mself\u001B[39;49m\u001B[38;5;241;43m.\u001B[39;49m\u001B[43mgrouped_buildings\u001B[49m\u001B[43m)\u001B[49m\u001B[43m,\u001B[49m\u001B[43m \u001B[49m\u001B[43mdesc\u001B[49m\u001B[38;5;241;43m=\u001B[39;49m\u001B[38;5;124;43m\"\u001B[39;49m\u001B[38;5;124;43mprocessing buildings\u001B[39;49m\u001B[38;5;124;43m\"\u001B[39;49m\u001B[43m)\u001B[49m\n\u001B[0;32m     75\u001B[0m \u001B[43m    \u001B[49m\u001B[43m]\u001B[49m\n",
      "Cell \u001B[1;32mIn[11], line 58\u001B[0m, in \u001B[0;36m<listcomp>\u001B[1;34m(.0)\u001B[0m\n\u001B[0;32m     35\u001B[0m \u001B[38;5;28;01mdef\u001B[39;00m \u001B[38;5;21mcompute_fields\u001B[39m(\u001B[38;5;28mself\u001B[39m):\n\u001B[0;32m     36\u001B[0m \u001B[38;5;250m    \u001B[39m\u001B[38;5;124;03m\"\"\"\u001B[39;00m\n\u001B[0;32m     37\u001B[0m \u001B[38;5;124;03m    Compute fields for each group of buildings.\u001B[39;00m\n\u001B[0;32m     38\u001B[0m \u001B[38;5;124;03m    \"\"\"\u001B[39;00m\n\u001B[0;32m     39\u001B[0m     \u001B[38;5;28mself\u001B[39m\u001B[38;5;241m.\u001B[39mresults \u001B[38;5;241m=\u001B[39m [\n\u001B[0;32m     40\u001B[0m         {\n\u001B[0;32m     41\u001B[0m             \u001B[38;5;124m'\u001B[39m\u001B[38;5;124mSA1_CODE21\u001B[39m\u001B[38;5;124m'\u001B[39m: sa1_code,\n\u001B[0;32m     42\u001B[0m             \u001B[38;5;124m'\u001B[39m\u001B[38;5;124mSP_ADJ\u001B[39m\u001B[38;5;124m'\u001B[39m: \u001B[38;5;28mround\u001B[39m(group_data[\u001B[38;5;124m'\u001B[39m\u001B[38;5;124mSP_ADJ\u001B[39m\u001B[38;5;124m'\u001B[39m]\u001B[38;5;241m.\u001B[39mstr\u001B[38;5;241m.\u001B[39mcontains(\u001B[38;5;124m'\u001B[39m\u001B[38;5;124mYes\u001B[39m\u001B[38;5;124m'\u001B[39m, case\u001B[38;5;241m=\u001B[39m\u001B[38;5;28;01mFalse\u001B[39;00m, na\u001B[38;5;241m=\u001B[39m\u001B[38;5;28;01mFalse\u001B[39;00m)\u001B[38;5;241m.\u001B[39msum()\n\u001B[0;32m     43\u001B[0m                             \u001B[38;5;241m/\u001B[39m \u001B[38;5;28mlen\u001B[39m(group_data), \u001B[38;5;241m2\u001B[39m),\n\u001B[0;32m     44\u001B[0m             \u001B[38;5;124m'\u001B[39m\u001B[38;5;124mROOF_HGT\u001B[39m\u001B[38;5;124m'\u001B[39m: \u001B[38;5;28mround\u001B[39m(group_data[\u001B[38;5;124m'\u001B[39m\u001B[38;5;124mROOF_HGT\u001B[39m\u001B[38;5;124m'\u001B[39m]\u001B[38;5;241m.\u001B[39mmean(), \u001B[38;5;241m2\u001B[39m),\n\u001B[0;32m     45\u001B[0m             \u001B[38;5;124m'\u001B[39m\u001B[38;5;124mMAT_Tile\u001B[39m\u001B[38;5;124m'\u001B[39m: \u001B[38;5;28mround\u001B[39m(group_data[\u001B[38;5;124m'\u001B[39m\u001B[38;5;124mPR_RF_MAT\u001B[39m\u001B[38;5;124m'\u001B[39m]\u001B[38;5;241m.\u001B[39mvalue_counts()\u001B[38;5;241m.\u001B[39mget(\u001B[38;5;124m'\u001B[39m\u001B[38;5;124mTile\u001B[39m\u001B[38;5;124m'\u001B[39m, \u001B[38;5;241m0\u001B[39m) \u001B[38;5;241m/\u001B[39m \u001B[38;5;28mlen\u001B[39m(group_data), \u001B[38;5;241m2\u001B[39m),\n\u001B[0;32m     46\u001B[0m             \u001B[38;5;124m'\u001B[39m\u001B[38;5;124mMAT_Metal\u001B[39m\u001B[38;5;124m'\u001B[39m: \u001B[38;5;28mround\u001B[39m(group_data[\u001B[38;5;124m'\u001B[39m\u001B[38;5;124mPR_RF_MAT\u001B[39m\u001B[38;5;124m'\u001B[39m]\u001B[38;5;241m.\u001B[39mvalue_counts()\u001B[38;5;241m.\u001B[39mget(\u001B[38;5;124m'\u001B[39m\u001B[38;5;124mMetal\u001B[39m\u001B[38;5;124m'\u001B[39m, \u001B[38;5;241m0\u001B[39m) \u001B[38;5;241m/\u001B[39m \u001B[38;5;28mlen\u001B[39m(group_data), \u001B[38;5;241m2\u001B[39m),\n\u001B[0;32m     47\u001B[0m             \u001B[38;5;124m'\u001B[39m\u001B[38;5;124mMAT_Concre\u001B[39m\u001B[38;5;124m'\u001B[39m: \u001B[38;5;28mround\u001B[39m(group_data[\u001B[38;5;124m'\u001B[39m\u001B[38;5;124mPR_RF_MAT\u001B[39m\u001B[38;5;124m'\u001B[39m]\u001B[38;5;241m.\u001B[39mvalue_counts()\u001B[38;5;241m.\u001B[39mget(\u001B[38;5;124m'\u001B[39m\u001B[38;5;124mFlat Concrete\u001B[39m\u001B[38;5;124m'\u001B[39m, \u001B[38;5;241m0\u001B[39m) \u001B[38;5;241m/\u001B[39m\n\u001B[0;32m     48\u001B[0m                                 \u001B[38;5;28mlen\u001B[39m(group_data), \u001B[38;5;241m2\u001B[39m),\n\u001B[0;32m     49\u001B[0m \n\u001B[0;32m     50\u001B[0m             \u001B[38;5;124m'\u001B[39m\u001B[38;5;124mLRF_PCT_2\u001B[39m\u001B[38;5;124m'\u001B[39m: \u001B[38;5;28mround\u001B[39m((group_data[\u001B[38;5;124m'\u001B[39m\u001B[38;5;124mROOF_CLR\u001B[39m\u001B[38;5;124m'\u001B[39m]\u001B[38;5;241m.\u001B[39mdropna()\u001B[38;5;241m.\u001B[39mapply(\u001B[38;5;28mself\u001B[39m\u001B[38;5;241m.\u001B[39mcompute_luminance) \u001B[38;5;241m<\u001B[39m\u001B[38;5;241m=\u001B[39m \u001B[38;5;241m0.3\u001B[39m)\u001B[38;5;241m.\u001B[39msum() \u001B[38;5;241m/\u001B[39m\n\u001B[0;32m     51\u001B[0m                                \u001B[38;5;28mlen\u001B[39m(group_data[\u001B[38;5;124m'\u001B[39m\u001B[38;5;124mROOF_CLR\u001B[39m\u001B[38;5;124m'\u001B[39m]\u001B[38;5;241m.\u001B[39mdropna()), \u001B[38;5;241m2\u001B[39m),\n\u001B[0;32m     52\u001B[0m             \u001B[38;5;124m'\u001B[39m\u001B[38;5;124mLRF_PCT_3\u001B[39m\u001B[38;5;124m'\u001B[39m: \u001B[38;5;28mround\u001B[39m((group_data[\u001B[38;5;124m'\u001B[39m\u001B[38;5;124mROOF_CLR\u001B[39m\u001B[38;5;124m'\u001B[39m]\u001B[38;5;241m.\u001B[39mdropna()\u001B[38;5;241m.\u001B[39mapply(\u001B[38;5;28mself\u001B[39m\u001B[38;5;241m.\u001B[39mcompute_luminance) \u001B[38;5;241m<\u001B[39m\u001B[38;5;241m=\u001B[39m \u001B[38;5;241m0.4\u001B[39m)\u001B[38;5;241m.\u001B[39msum() \u001B[38;5;241m/\u001B[39m\n\u001B[0;32m     53\u001B[0m                                \u001B[38;5;28mlen\u001B[39m(group_data[\u001B[38;5;124m'\u001B[39m\u001B[38;5;124mROOF_CLR\u001B[39m\u001B[38;5;124m'\u001B[39m]\u001B[38;5;241m.\u001B[39mdropna()), \u001B[38;5;241m2\u001B[39m),\n\u001B[0;32m     54\u001B[0m             \u001B[38;5;124m'\u001B[39m\u001B[38;5;124mLRF_PCT_4\u001B[39m\u001B[38;5;124m'\u001B[39m: \u001B[38;5;28mround\u001B[39m((group_data[\u001B[38;5;124m'\u001B[39m\u001B[38;5;124mROOF_CLR\u001B[39m\u001B[38;5;124m'\u001B[39m]\u001B[38;5;241m.\u001B[39mdropna()\u001B[38;5;241m.\u001B[39mapply(\u001B[38;5;28mself\u001B[39m\u001B[38;5;241m.\u001B[39mcompute_luminance) \u001B[38;5;241m<\u001B[39m\u001B[38;5;241m=\u001B[39m \u001B[38;5;241m0.5\u001B[39m)\u001B[38;5;241m.\u001B[39msum() \u001B[38;5;241m/\u001B[39m\n\u001B[0;32m     55\u001B[0m                                \u001B[38;5;28mlen\u001B[39m(group_data[\u001B[38;5;124m'\u001B[39m\u001B[38;5;124mROOF_CLR\u001B[39m\u001B[38;5;124m'\u001B[39m]\u001B[38;5;241m.\u001B[39mdropna()), \u001B[38;5;241m2\u001B[39m),\n\u001B[0;32m     56\u001B[0m \n\u001B[0;32m     57\u001B[0m             \u001B[38;5;124m'\u001B[39m\u001B[38;5;124mLAE_PCT_2\u001B[39m\u001B[38;5;124m'\u001B[39m: \u001B[38;5;28mround\u001B[39m(\n\u001B[1;32m---> 58\u001B[0m                 \u001B[43mgroup_data\u001B[49m\u001B[38;5;241;43m.\u001B[39;49m\u001B[43mloc\u001B[49m\u001B[43m[\u001B[49m\u001B[43mgroup_data\u001B[49m\u001B[43m[\u001B[49m\u001B[38;5;124;43m'\u001B[39;49m\u001B[38;5;124;43mROOF_CLR\u001B[39;49m\u001B[38;5;124;43m'\u001B[39;49m\u001B[43m]\u001B[49m\u001B[38;5;241;43m.\u001B[39;49m\u001B[43mdropna\u001B[49m\u001B[43m(\u001B[49m\u001B[43m)\u001B[49m\u001B[38;5;241;43m.\u001B[39;49m\u001B[43mapply\u001B[49m\u001B[43m(\u001B[49m\u001B[38;5;28;43mself\u001B[39;49m\u001B[38;5;241;43m.\u001B[39;49m\u001B[43mcompute_luminance\u001B[49m\u001B[43m)\u001B[49m\u001B[43m \u001B[49m\u001B[38;5;241;43m<\u001B[39;49m\u001B[38;5;241;43m=\u001B[39;49m\u001B[43m \u001B[49m\u001B[38;5;241;43m0.3\u001B[39;49m\u001B[43m,\u001B[49m\u001B[43m \u001B[49m\u001B[38;5;124;43m'\u001B[39;49m\u001B[38;5;124;43mAREA\u001B[39;49m\u001B[38;5;124;43m'\u001B[39;49m\u001B[43m]\u001B[49m\u001B[38;5;241m.\u001B[39msum() \u001B[38;5;241m/\u001B[39m\n\u001B[0;32m     59\u001B[0m                 (\u001B[38;5;28mself\u001B[39m\u001B[38;5;241m.\u001B[39msa1_area_dict[sa1_code] \u001B[38;5;241m*\u001B[39m \u001B[38;5;241m1e6\u001B[39m), \u001B[38;5;241m2\u001B[39m\n\u001B[0;32m     60\u001B[0m             ),\n\u001B[0;32m     61\u001B[0m             \u001B[38;5;124m'\u001B[39m\u001B[38;5;124mLAE_PCT_3\u001B[39m\u001B[38;5;124m'\u001B[39m: \u001B[38;5;28mround\u001B[39m(\n\u001B[0;32m     62\u001B[0m                 group_data\u001B[38;5;241m.\u001B[39mloc[group_data[\u001B[38;5;124m'\u001B[39m\u001B[38;5;124mROOF_CLR\u001B[39m\u001B[38;5;124m'\u001B[39m]\u001B[38;5;241m.\u001B[39mdropna()\u001B[38;5;241m.\u001B[39mapply(\u001B[38;5;28mself\u001B[39m\u001B[38;5;241m.\u001B[39mcompute_luminance) \u001B[38;5;241m<\u001B[39m\u001B[38;5;241m=\u001B[39m \u001B[38;5;241m0.4\u001B[39m, \u001B[38;5;124m'\u001B[39m\u001B[38;5;124mAREA\u001B[39m\u001B[38;5;124m'\u001B[39m]\u001B[38;5;241m.\u001B[39msum() \u001B[38;5;241m/\u001B[39m\n\u001B[0;32m     63\u001B[0m                 (\u001B[38;5;28mself\u001B[39m\u001B[38;5;241m.\u001B[39msa1_area_dict[sa1_code] \u001B[38;5;241m*\u001B[39m \u001B[38;5;241m1e6\u001B[39m), \u001B[38;5;241m2\u001B[39m\n\u001B[0;32m     64\u001B[0m             ),\n\u001B[0;32m     65\u001B[0m             \u001B[38;5;124m'\u001B[39m\u001B[38;5;124mLAE_PCT_4\u001B[39m\u001B[38;5;124m'\u001B[39m: \u001B[38;5;28mround\u001B[39m(\n\u001B[0;32m     66\u001B[0m                 group_data\u001B[38;5;241m.\u001B[39mloc[group_data[\u001B[38;5;124m'\u001B[39m\u001B[38;5;124mROOF_CLR\u001B[39m\u001B[38;5;124m'\u001B[39m]\u001B[38;5;241m.\u001B[39mdropna()\u001B[38;5;241m.\u001B[39mapply(\u001B[38;5;28mself\u001B[39m\u001B[38;5;241m.\u001B[39mcompute_luminance) \u001B[38;5;241m<\u001B[39m\u001B[38;5;241m=\u001B[39m \u001B[38;5;241m0.5\u001B[39m, \u001B[38;5;124m'\u001B[39m\u001B[38;5;124mAREA\u001B[39m\u001B[38;5;124m'\u001B[39m]\u001B[38;5;241m.\u001B[39msum() \u001B[38;5;241m/\u001B[39m\n\u001B[0;32m     67\u001B[0m                 (\u001B[38;5;28mself\u001B[39m\u001B[38;5;241m.\u001B[39msa1_area_dict[sa1_code] \u001B[38;5;241m*\u001B[39m \u001B[38;5;241m1e6\u001B[39m), \u001B[38;5;241m2\u001B[39m\n\u001B[0;32m     68\u001B[0m             ),\n\u001B[0;32m     69\u001B[0m \n\u001B[0;32m     70\u001B[0m             \u001B[38;5;124m'\u001B[39m\u001B[38;5;124mAREA_PCT\u001B[39m\u001B[38;5;124m'\u001B[39m: \u001B[38;5;28mround\u001B[39m(group_data[\u001B[38;5;124m'\u001B[39m\u001B[38;5;124mAREA\u001B[39m\u001B[38;5;124m'\u001B[39m]\u001B[38;5;241m.\u001B[39msum() \u001B[38;5;241m/\u001B[39m (\u001B[38;5;28mself\u001B[39m\u001B[38;5;241m.\u001B[39msa1_area_dict[sa1_code] \u001B[38;5;241m*\u001B[39m \u001B[38;5;241m1e6\u001B[39m), \u001B[38;5;241m2\u001B[39m),\n\u001B[0;32m     71\u001B[0m             \u001B[38;5;124m'\u001B[39m\u001B[38;5;124mEST_LEV\u001B[39m\u001B[38;5;124m'\u001B[39m: \u001B[38;5;28mround\u001B[39m(group_data[\u001B[38;5;124m'\u001B[39m\u001B[38;5;124mEST_LEV\u001B[39m\u001B[38;5;124m'\u001B[39m]\u001B[38;5;241m.\u001B[39mmean(), \u001B[38;5;241m2\u001B[39m)\n\u001B[0;32m     72\u001B[0m         }\n\u001B[0;32m     73\u001B[0m         \u001B[38;5;28;01mfor\u001B[39;00m sa1_code, group_data \u001B[38;5;129;01min\u001B[39;00m \n\u001B[0;32m     74\u001B[0m         tqdm(\u001B[38;5;28mself\u001B[39m\u001B[38;5;241m.\u001B[39mgrouped_buildings, total\u001B[38;5;241m=\u001B[39m\u001B[38;5;28mlen\u001B[39m(\u001B[38;5;28mself\u001B[39m\u001B[38;5;241m.\u001B[39mgrouped_buildings), desc\u001B[38;5;241m=\u001B[39m\u001B[38;5;124m\"\u001B[39m\u001B[38;5;124mprocessing buildings\u001B[39m\u001B[38;5;124m\"\u001B[39m)\n\u001B[0;32m     75\u001B[0m     ]\n",
      "File \u001B[1;32m~\\OneDrive - The University of Melbourne\\AURIN\\AusUrbHI\\AusUrbHI\\.venv\\Lib\\site-packages\\pandas\\core\\indexing.py:1147\u001B[0m, in \u001B[0;36m_LocationIndexer.__getitem__\u001B[1;34m(self, key)\u001B[0m\n\u001B[0;32m   1145\u001B[0m     \u001B[38;5;28;01mif\u001B[39;00m \u001B[38;5;28mself\u001B[39m\u001B[38;5;241m.\u001B[39m_is_scalar_access(key):\n\u001B[0;32m   1146\u001B[0m         \u001B[38;5;28;01mreturn\u001B[39;00m \u001B[38;5;28mself\u001B[39m\u001B[38;5;241m.\u001B[39mobj\u001B[38;5;241m.\u001B[39m_get_value(\u001B[38;5;241m*\u001B[39mkey, takeable\u001B[38;5;241m=\u001B[39m\u001B[38;5;28mself\u001B[39m\u001B[38;5;241m.\u001B[39m_takeable)\n\u001B[1;32m-> 1147\u001B[0m     \u001B[38;5;28;01mreturn\u001B[39;00m \u001B[38;5;28;43mself\u001B[39;49m\u001B[38;5;241;43m.\u001B[39;49m\u001B[43m_getitem_tuple\u001B[49m\u001B[43m(\u001B[49m\u001B[43mkey\u001B[49m\u001B[43m)\u001B[49m\n\u001B[0;32m   1148\u001B[0m \u001B[38;5;28;01melse\u001B[39;00m:\n\u001B[0;32m   1149\u001B[0m     \u001B[38;5;66;03m# we by definition only have the 0th axis\u001B[39;00m\n\u001B[0;32m   1150\u001B[0m     axis \u001B[38;5;241m=\u001B[39m \u001B[38;5;28mself\u001B[39m\u001B[38;5;241m.\u001B[39maxis \u001B[38;5;129;01mor\u001B[39;00m \u001B[38;5;241m0\u001B[39m\n",
      "File \u001B[1;32m~\\OneDrive - The University of Melbourne\\AURIN\\AusUrbHI\\AusUrbHI\\.venv\\Lib\\site-packages\\pandas\\core\\indexing.py:1339\u001B[0m, in \u001B[0;36m_LocIndexer._getitem_tuple\u001B[1;34m(self, tup)\u001B[0m\n\u001B[0;32m   1336\u001B[0m \u001B[38;5;28;01mif\u001B[39;00m \u001B[38;5;28mself\u001B[39m\u001B[38;5;241m.\u001B[39m_multi_take_opportunity(tup):\n\u001B[0;32m   1337\u001B[0m     \u001B[38;5;28;01mreturn\u001B[39;00m \u001B[38;5;28mself\u001B[39m\u001B[38;5;241m.\u001B[39m_multi_take(tup)\n\u001B[1;32m-> 1339\u001B[0m \u001B[38;5;28;01mreturn\u001B[39;00m \u001B[38;5;28;43mself\u001B[39;49m\u001B[38;5;241;43m.\u001B[39;49m\u001B[43m_getitem_tuple_same_dim\u001B[49m\u001B[43m(\u001B[49m\u001B[43mtup\u001B[49m\u001B[43m)\u001B[49m\n",
      "File \u001B[1;32m~\\OneDrive - The University of Melbourne\\AURIN\\AusUrbHI\\AusUrbHI\\.venv\\Lib\\site-packages\\pandas\\core\\indexing.py:997\u001B[0m, in \u001B[0;36m_LocationIndexer._getitem_tuple_same_dim\u001B[1;34m(self, tup)\u001B[0m\n\u001B[0;32m    994\u001B[0m     retval \u001B[38;5;241m=\u001B[39m \u001B[38;5;28mgetattr\u001B[39m(retval, \u001B[38;5;28mself\u001B[39m\u001B[38;5;241m.\u001B[39mname)\u001B[38;5;241m.\u001B[39m_getitem_axis(key, axis\u001B[38;5;241m=\u001B[39mi)\n\u001B[0;32m    995\u001B[0m     \u001B[38;5;66;03m# We should never have retval.ndim < self.ndim, as that should\u001B[39;00m\n\u001B[0;32m    996\u001B[0m     \u001B[38;5;66;03m#  be handled by the _getitem_lowerdim call above.\u001B[39;00m\n\u001B[1;32m--> 997\u001B[0m     \u001B[38;5;28;01massert\u001B[39;00m retval\u001B[38;5;241m.\u001B[39mndim \u001B[38;5;241m==\u001B[39m \u001B[38;5;28mself\u001B[39m\u001B[38;5;241m.\u001B[39mndim\n\u001B[0;32m    999\u001B[0m \u001B[38;5;28;01mif\u001B[39;00m retval \u001B[38;5;129;01mis\u001B[39;00m \u001B[38;5;28mself\u001B[39m\u001B[38;5;241m.\u001B[39mobj:\n\u001B[0;32m   1000\u001B[0m     \u001B[38;5;66;03m# if all axes were a null slice (`df.loc[:, :]`), ensure we still\u001B[39;00m\n\u001B[0;32m   1001\u001B[0m     \u001B[38;5;66;03m# return a new object (https://github.com/pandas-dev/pandas/pull/49469)\u001B[39;00m\n\u001B[0;32m   1002\u001B[0m     retval \u001B[38;5;241m=\u001B[39m retval\u001B[38;5;241m.\u001B[39mcopy(deep\u001B[38;5;241m=\u001B[39m\u001B[38;5;28;01mFalse\u001B[39;00m)\n",
      "\u001B[1;31mAssertionError\u001B[0m: "
     ]
    }
   ],
   "source": [
    "processor.compute_fields()\n",
    "print(\"Computing done.\")"
   ],
   "metadata": {
    "collapsed": false,
    "ExecuteTime": {
     "end_time": "2023-11-21T09:51:02.327383600Z",
     "start_time": "2023-11-21T09:50:23.514016500Z"
    }
   },
   "id": "78f5674cebb2675f"
  },
  {
   "cell_type": "code",
   "execution_count": null,
   "outputs": [],
   "source": [
    "processor.save_output('../_data/AusUrbHI HVI data processed/Geoscape/buildings.shp')"
   ],
   "metadata": {
    "collapsed": false,
    "ExecuteTime": {
     "start_time": "2023-11-21T09:35:48.710879600Z"
    }
   },
   "id": "91b3162fd5e9ab6"
  },
  {
   "cell_type": "code",
   "execution_count": null,
   "outputs": [],
   "source": [],
   "metadata": {
    "collapsed": false
   },
   "id": "872699040654008c"
  }
 ],
 "metadata": {
  "kernelspec": {
   "display_name": "Python 3",
   "language": "python",
   "name": "python3"
  },
  "language_info": {
   "codemirror_mode": {
    "name": "ipython",
    "version": 2
   },
   "file_extension": ".py",
   "mimetype": "text/x-python",
   "name": "python",
   "nbconvert_exporter": "python",
   "pygments_lexer": "ipython2",
   "version": "2.7.6"
  }
 },
 "nbformat": 4,
 "nbformat_minor": 5
}
