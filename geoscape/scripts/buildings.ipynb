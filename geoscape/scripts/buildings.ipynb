{
 "cells": [
  {
   "cell_type": "code",
   "execution_count": null,
   "metadata": {},
   "outputs": [],
   "source": [
    "import pandas as pd\n",
    "import geopandas as gpd\n",
    "from tqdm import tqdm\n",
    "from geopandas import GeoDataFrame"
   ]
  },
  {
   "cell_type": "code",
   "execution_count": null,
   "metadata": {},
   "outputs": [],
   "source": [
    "building_gdf = gpd.read_file(\"../../_data/AusUrbHI HVI data unprocessed/Geoscape/temporary/buildings_in_study_area.shp\")\n",
    "meshblock_gdf = gpd.read_file(\"../../_data/study area/meshblock_study_area_2021.shp\")\n",
    "study_area_gdf = gpd.read_file(\"../../_data/study area/ausurbhi_study_area_2021.shp\")"
   ]
  },
  {
   "cell_type": "code",
   "execution_count": null,
   "metadata": {},
   "outputs": [],
   "source": [
    "# create a dictionary of SA1 area\n",
    "sa1_area_dict = study_area_gdf.set_index('SA1_CODE21')['AREASQKM21'].to_dict()\n",
    "\n",
    "# group buildings by SA1\n",
    "grouped_buildings = building_gdf.groupby('SA1_CODE21')\n",
    "print(len(grouped_buildings.groups), len(study_area_gdf))"
   ]
  },
  {
   "cell_type": "code",
   "execution_count": null,
   "metadata": {},
   "outputs": [],
   "source": [
    "result = []\n",
    "for sa1_code, group_data in tqdm(grouped_buildings, total=len(grouped_buildings),\n",
    "                                    desc=\"processing buildings\"):\n",
    "    count = len(group_data)\n",
    "    sp_adj_yes = group_data['SP_ADJ'].str.contains('Yes', case=False, na=False).sum()\n",
    "    pr_rf_ma_counts = group_data['PR_RF_MAT'].value_counts()\n",
    "\n",
    "    # compute fields based on values of all buildings in the SA1\n",
    "    sa1_dict = {'SA1_CODE21': sa1_code,\n",
    "                'SP_ADJ': sp_adj_yes / count,\n",
    "                'ROOF_HGT': group_data['ROOF_HGT'].mean(),\n",
    "                'MAT_Tile': pr_rf_ma_counts.get('Tile', 0) / count,\n",
    "                'MAT_Metal': pr_rf_ma_counts.get('Metal', 0) / count,\n",
    "                'MAT_Concre': pr_rf_ma_counts.get('Flat Concrete', 0) / count,\n",
    "                'AREA': group_data['AREA'].sum() / sa1_area_dict[sa1_code] * 1e6,\n",
    "                'EST_LEV': group_data['EST_LEV'].mean()}\n",
    "    result.append(sa1_dict)"
   ]
  },
  {
   "cell_type": "code",
   "execution_count": null,
   "metadata": {},
   "outputs": [],
   "source": [
    "result_df = pd.DataFrame(result)\n",
    "merged_df = result_df.merge(study_area_gdf[['SA1_CODE21', 'geometry']], on='SA1_CODE21', how='left')\n",
    "new_gdf = GeoDataFrame(merged_df, geometry='geometry', crs=study_area_gdf.crs)\n",
    "new_gdf.to_file('../../_data/AusUrbHI HVI data processed/Geoscape/buildings.shp')"
   ]
  }
 ],
 "metadata": {
  "kernelspec": {
   "display_name": ".venv",
   "language": "python",
   "name": "python3"
  },
  "language_info": {
   "codemirror_mode": {
    "name": "ipython",
    "version": 3
   },
   "file_extension": ".py",
   "mimetype": "text/x-python",
   "name": "python",
   "nbconvert_exporter": "python",
   "pygments_lexer": "ipython3",
   "version": "3.12.0"
  }
 },
 "nbformat": 4,
 "nbformat_minor": 2
}
