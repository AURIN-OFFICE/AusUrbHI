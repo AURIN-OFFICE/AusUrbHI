{
 "cells": [
  {
   "cell_type": "code",
   "execution_count": null,
   "metadata": {
    "collapsed": true
   },
   "outputs": [],
   "source": [
    "import requests\n",
    "import pandas as pd\n",
    "\n",
    "# Set the API endpoint and parameters\n",
    "url = 'http://www.bom.gov.au/fwo/IDCJDW0000.txt'\n",
    "params = {'station': 'IDCJDW6090',  # Sydney Observatory Hill\n",
    "          'year': '2022',  # Year of interest\n",
    "          'format': 'json'}\n",
    "\n",
    "# list all stations from the API\n",
    "stations = requests.get('http://www.bom.gov.au/fwo/IDN60901/IDN60901.94765.json').json()['observations']['data']\n",
    "\n",
    "\n",
    "# Send a GET request to the API endpoint with the specified parameters\n",
    "response = requests.get(url, params=params)\n",
    "\n",
    "# Extract the data from the response as a pandas DataFrame\n",
    "data = pd.DataFrame(response.json()['data'])\n",
    "\n",
    "# Convert the date column to a pandas datetime format\n",
    "data['date'] = pd.to_datetime(data['date'], format='%Y%m%d')\n",
    "\n",
    "# Convert the temperature columns to numeric format\n",
    "data['max'] = pd.to_numeric(data['max'])\n",
    "data['min'] = pd.to_numeric(data['min'])\n",
    "\n",
    "# Extract the land surface temperature (LST) column\n",
    "lst = data['max']\n",
    "\n",
    "# Print the LST for the year\n",
    "print(lst)"
   ]
  }
 ],
 "metadata": {
  "kernelspec": {
   "display_name": "Python 3",
   "language": "python",
   "name": "python3"
  },
  "language_info": {
   "codemirror_mode": {
    "name": "ipython",
    "version": 2
   },
   "file_extension": ".py",
   "mimetype": "text/x-python",
   "name": "python",
   "nbconvert_exporter": "python",
   "pygments_lexer": "ipython2",
   "version": "2.7.6"
  }
 },
 "nbformat": 4,
 "nbformat_minor": 0
}
