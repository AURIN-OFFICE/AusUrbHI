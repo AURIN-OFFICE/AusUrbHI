{
 "cells": [
  {
   "cell_type": "markdown",
   "id": "58255366",
   "metadata": {},
   "source": [
    "# 1. Introduction"
   ]
  },
  {
   "cell_type": "markdown",
   "id": "b9eb3a51",
   "metadata": {},
   "source": [
    "This notebook is using MOD11A1.061 Terra Land Surface Temperature (LST) and Emissivity Daily Global 1km data which can be found here: https://developers.google.com/earth-engine/datasets/catalog/MODIS_061_MOD11A1#bands. It demonstrates how the retrieved LST data can be viewed as pandas df, visualized by plot, and finally by raster imagery.\n",
    "\n",
    "API documentation for reference purpose: https://developers.google.com/earth-engine/guides/python_install\n",
    "\n",
    "Hao Chen 12th May 2022"
   ]
  },
  {
   "cell_type": "markdown",
   "id": "04f43b12",
   "metadata": {},
   "source": [
    "# 2. GoogleEarthEngine Python API and GEEMap installation"
   ]
  },
  {
   "cell_type": "code",
   "execution_count": 1,
   "id": "90f6ebb9",
   "metadata": {
    "scrolled": true
   },
   "outputs": [],
   "source": [
    "import sys\n",
    "# !{sys.executable} -m pip install earthengine-api --upgrade\n",
    "# !{sys.executable} -m pip install geemap --upgrade\n",
    "# !{sys.executable} -m pip install geopandas --upgrade\n",
    "# !{sys.executable} -m pip install fiona --upgrade"
   ]
  },
  {
   "cell_type": "code",
   "execution_count": 2,
   "id": "62b40e31",
   "metadata": {},
   "outputs": [],
   "source": [
    "import ee\n",
    "# import geemap\n",
    "# import fiona\n",
    "# import geopandas\n",
    "# import folium\n",
    "import json\n",
    "import pandas as pd\n",
    "import matplotlib.pyplot as plt\n",
    "import numpy as np\n",
    "from pprint import pprint\n",
    "from scipy import optimize\n",
    "from IPython.display import Image\n",
    "%matplotlib inline"
   ]
  },
  {
   "cell_type": "markdown",
   "id": "098bd57e",
   "metadata": {},
   "source": [
    "# 3. View LST data as pandas dataframe"
   ]
  },
  {
   "cell_type": "code",
   "execution_count": 3,
   "id": "9d2ea32f",
   "metadata": {},
   "outputs": [],
   "source": [
    "ee.Initialize()\n",
    "\n",
    "# Select a location and time intervel in Sydney city area for testing\n",
    "s_lon = 150.3715249\n",
    "s_lat = -33.8469759\n",
    "s_poi = ee.Geometry.Point(s_lon, s_lat)\n",
    "\n",
    "s_date = '2018-01-01'\n",
    "e_date = '2018-01-14'\n",
    "\n",
    "scale = 10000\n",
    "\n",
    "collection = ee.ImageCollection('MODIS/061/MOD11A1')\\\n",
    "    .select('LST_Day_1km', 'QC_Day')\\\n",
    "    .filterDate(s_date, e_date)"
   ]
  },
  {
   "cell_type": "code",
   "execution_count": 4,
   "id": "00646f3b",
   "metadata": {},
   "outputs": [
    {
     "name": "stdout",
     "output_type": "stream",
     "text": [
      "Average daytime LST at urban point: 31.77 °C\n"
     ]
    }
   ],
   "source": [
    "# Calculate and print the mean value of the LST collection at the point.\n",
    "lst_sydney_point = collection.mean().sample(s_poi, scale).first().get('LST_Day_1km').getInfo()\n",
    "print('Average daytime LST at urban point:', round(lst_sydney_point*0.02 -273.15, 2), '°C')"
   ]
  },
  {
   "cell_type": "code",
   "execution_count": 5,
   "id": "e406a178",
   "metadata": {},
   "outputs": [
    {
     "name": "stdout",
     "output_type": "stream",
     "text": [
      "[['id', 'longitude', 'latitude', 'time', 'LST_Day_1km', 'QC_Day'],\n",
      " ['2018_01_01',\n",
      "  150.3330627974019,\n",
      "  -33.82157044709999,\n",
      "  1514764800000,\n",
      "  15255,\n",
      "  65],\n",
      " ['2018_01_02', 150.3330627974019, -33.82157044709999, 1514851200000, None, 2],\n",
      " ['2018_01_03', 150.3330627974019, -33.82157044709999, 1514937600000, 14814, 2],\n",
      " ['2018_01_04',\n",
      "  150.3330627974019,\n",
      "  -33.82157044709999,\n",
      "  1515024000000,\n",
      "  15236,\n",
      "  None],\n",
      " ['2018_01_05', 150.3330627974019, -33.82157044709999, 1515110400000, None, 2],\n",
      " ['2018_01_06',\n",
      "  150.3330627974019,\n",
      "  -33.82157044709999,\n",
      "  1515196800000,\n",
      "  15678,\n",
      "  None],\n",
      " ['2018_01_07', 150.3330627974019, -33.82157044709999, 1515283200000, None, 2],\n",
      " ['2018_01_08', 150.3330627974019, -33.82157044709999, 1515369600000, None, 2],\n",
      " ['2018_01_09', 150.3330627974019, -33.82157044709999, 1515456000000, None, 2],\n",
      " ['2018_01_10', 150.3330627974019, -33.82157044709999, 1515542400000, None, 2],\n",
      " ['2018_01_11', 150.3330627974019, -33.82157044709999, 1515628800000, None, 2],\n",
      " ['2018_01_12', 150.3330627974019, -33.82157044709999, 1515715200000, None, 2],\n",
      " ['2018_01_13', 150.3330627974019, -33.82157044709999, 1515801600000, None, 2]]\n"
     ]
    }
   ],
   "source": [
    "# Get the data for the pixel intersecting the point in urban area.\n",
    "# QC_Day indicates a value of 2 meaning that the LST is not calculated because of cloud effects.\n",
    "lst_s_poi = collection.getRegion(s_poi, scale).getInfo()\n",
    "pprint(lst_s_poi)"
   ]
  },
  {
   "cell_type": "code",
   "execution_count": 6,
   "id": "ad6fd8cb",
   "metadata": {},
   "outputs": [],
   "source": [
    "# A function borrowed elsewhere for transforming ee data to pandas array for easier manipulation\n",
    "def ee_array_to_df(arr, list_of_bands):\n",
    "    \"\"\"Transforms client-side ee.Image.getRegion array to pandas.DataFrame.\"\"\"\n",
    "    df = pd.DataFrame(arr)\n",
    "\n",
    "    # Rearrange the header.\n",
    "    headers = df.iloc[0]\n",
    "    df = pd.DataFrame(df.values[1:], columns=headers)\n",
    "\n",
    "    # Remove rows without data inside.\n",
    "    df = df[['longitude', 'latitude', 'time', *list_of_bands]].dropna()\n",
    "\n",
    "    # Convert the data to numeric values.\n",
    "    for band in list_of_bands:\n",
    "        df[band] = pd.to_numeric(df[band], errors='coerce')\n",
    "\n",
    "    # Convert the time field into a datetime.\n",
    "    df['datetime'] = pd.to_datetime(df['time'], unit='ms')\n",
    "\n",
    "    # Keep the columns of interest.\n",
    "    df = df[['time','datetime',  *list_of_bands]]\n",
    "\n",
    "    return df\n",
    "\n",
    "# Converts MODIS LST units to degrees Celsius.\n",
    "def t_modis_to_celsius(t_modis):\n",
    "    t_celsius =  0.02*t_modis - 273.15\n",
    "    return t_celsius"
   ]
  },
  {
   "cell_type": "code",
   "execution_count": 7,
   "id": "b83b129b",
   "metadata": {},
   "outputs": [
    {
     "data": {
      "text/html": [
       "<div>\n",
       "<style scoped>\n",
       "    .dataframe tbody tr th:only-of-type {\n",
       "        vertical-align: middle;\n",
       "    }\n",
       "\n",
       "    .dataframe tbody tr th {\n",
       "        vertical-align: top;\n",
       "    }\n",
       "\n",
       "    .dataframe thead th {\n",
       "        text-align: right;\n",
       "    }\n",
       "</style>\n",
       "<table border=\"1\" class=\"dataframe\">\n",
       "  <thead>\n",
       "    <tr style=\"text-align: right;\">\n",
       "      <th></th>\n",
       "      <th>time</th>\n",
       "      <th>datetime</th>\n",
       "      <th>LST_Day_1km</th>\n",
       "    </tr>\n",
       "  </thead>\n",
       "  <tbody>\n",
       "    <tr>\n",
       "      <th>0</th>\n",
       "      <td>1514764800000</td>\n",
       "      <td>2018-01-01</td>\n",
       "      <td>31.95</td>\n",
       "    </tr>\n",
       "    <tr>\n",
       "      <th>2</th>\n",
       "      <td>1514937600000</td>\n",
       "      <td>2018-01-03</td>\n",
       "      <td>23.13</td>\n",
       "    </tr>\n",
       "    <tr>\n",
       "      <th>3</th>\n",
       "      <td>1515024000000</td>\n",
       "      <td>2018-01-04</td>\n",
       "      <td>31.57</td>\n",
       "    </tr>\n",
       "    <tr>\n",
       "      <th>5</th>\n",
       "      <td>1515196800000</td>\n",
       "      <td>2018-01-06</td>\n",
       "      <td>40.41</td>\n",
       "    </tr>\n",
       "  </tbody>\n",
       "</table>\n",
       "</div>"
      ],
      "text/plain": [
       "0           time   datetime  LST_Day_1km\n",
       "0  1514764800000 2018-01-01        31.95\n",
       "2  1514937600000 2018-01-03        23.13\n",
       "3  1515024000000 2018-01-04        31.57\n",
       "5  1515196800000 2018-01-06        40.41"
      ]
     },
     "execution_count": 7,
     "metadata": {},
     "output_type": "execute_result"
    }
   ],
   "source": [
    "lst_df_sydney = ee_array_to_df(lst_s_poi,['LST_Day_1km'])\n",
    "\n",
    "# Apply the function to get temperature in celsius.\n",
    "lst_df_sydney['LST_Day_1km'] = lst_df_sydney['LST_Day_1km'].apply(t_modis_to_celsius)\n",
    "\n",
    "lst_df_sydney.head(100)"
   ]
  },
  {
   "cell_type": "markdown",
   "id": "66a521de",
   "metadata": {},
   "source": [
    "# 4. Visualize LST data through plotting"
   ]
  },
  {
   "cell_type": "code",
   "execution_count": 8,
   "id": "01310ce4",
   "metadata": {},
   "outputs": [],
   "source": [
    "# Select another location in Melbourne for comparison\n",
    "m_lon = 144.9522241\n",
    "m_lat = -37.8166125\n",
    "m_poi = ee.Geometry.Point(m_lon, m_lat)\n",
    "\n",
    "lst_m_poi = collection.getRegion(m_poi, scale).getInfo()\n",
    "lst_df_melbourne = ee_array_to_df(lst_m_poi,['LST_Day_1km'])\n",
    "lst_df_melbourne['LST_Day_1km'] = lst_df_melbourne['LST_Day_1km'].apply(t_modis_to_celsius)"
   ]
  },
  {
   "cell_type": "code",
   "execution_count": 9,
   "id": "76d424af",
   "metadata": {},
   "outputs": [
    {
     "name": "stderr",
     "output_type": "stream",
     "text": [
      "C:\\Users\\haoc4\\Anaconda3\\lib\\site-packages\\scipy\\optimize\\minpack.py:828: OptimizeWarning: Covariance of the parameters could not be estimated\n",
      "  warnings.warn('Covariance of the parameters could not be estimated',\n"
     ]
    },
    {
     "data": {
      "image/png": "[encoded data removed]",
      "text/plain": [
       "<Figure size 1008x432 with 1 Axes>"
      ]
     },
     "metadata": {
      "needs_background": "light"
     },
     "output_type": "display_data"
    }
   ],
   "source": [
    "# Fitting curves for visualization, as suggeted by https://agupubs.onlinelibrary.wiley.com/doi/abs/10.1029/JZ070i012p02821\n",
    "## First, extract x values (times) from the dfs.\n",
    "x_data_u = np.asanyarray(lst_df_sydney['time'].apply(float))  # urban\n",
    "x_data_r = np.asanyarray(lst_df_melbourne['time'].apply(float))  # rural\n",
    "\n",
    "## Secondly, extract y values (LST) from the dfs.\n",
    "y_data_u = np.asanyarray(lst_df_sydney['LST_Day_1km'].apply(float))  # urban\n",
    "y_data_r = np.asanyarray(lst_df_melbourne['LST_Day_1km'].apply(float))  # rural\n",
    "\n",
    "## Then, define the fitting function with parameters.\n",
    "def fit_func(t, lst0, delta_lst, tau, phi):\n",
    "    return lst0 + (delta_lst/2)*np.sin(2*np.pi*t/tau + phi)\n",
    "\n",
    "## Optimize the parameters using a good start p0.\n",
    "lst0 = 20\n",
    "delta_lst = 40\n",
    "tau = 365*24*3600*1000   # milliseconds in a year\n",
    "phi = 2*np.pi*4*30.5*3600*1000/tau  # offset regarding when we expect LST(t)=LST0\n",
    "\n",
    "params_u, params_covariance_u = optimize.curve_fit(\n",
    "    fit_func, x_data_u, y_data_u, p0=[lst0, delta_lst, tau, phi])\n",
    "params_r, params_covariance_r = optimize.curve_fit(\n",
    "    fit_func, x_data_r, y_data_r, p0=[lst0, delta_lst, tau, phi])\n",
    "\n",
    "# Subplots.\n",
    "fig, ax = plt.subplots(figsize=(14, 6))\n",
    "\n",
    "# Add scatter plots.\n",
    "ax.scatter(lst_df_sydney['datetime'], lst_df_sydney['LST_Day_1km'],\n",
    "           c='black', alpha=0.2, label='Sydney sample location (data)')\n",
    "ax.scatter(lst_df_melbourne['datetime'], lst_df_melbourne['LST_Day_1km'],\n",
    "           c='green', alpha=0.35, label='Melbourne sample location (data)')\n",
    "\n",
    "# Add fitting curves.\n",
    "ax.plot(lst_df_sydney['datetime'],\n",
    "        fit_func(x_data_u, params_u[0], params_u[1], params_u[2], params_u[3]),\n",
    "        label='Sydney sample locaiton (fitted)', color='black', lw=2.5)\n",
    "ax.plot(lst_df_melbourne['datetime'],\n",
    "        fit_func(x_data_r, params_r[0], params_r[1], params_r[2], params_r[3]),\n",
    "        label='Melbourne sample locaiton (fitted)', color='green', lw=2.5)\n",
    "\n",
    "# Add some parameters.\n",
    "ax.set_title('Daytime Land Surface Temperature Comparison for Sydney and Melbourne', fontsize=16)\n",
    "ax.set_xlabel('Date', fontsize=14)\n",
    "ax.set_ylabel('Temperature [C]', fontsize=14)\n",
    "ax.set_ylim(-0, 40)\n",
    "ax.grid(lw=0.2)\n",
    "ax.legend(fontsize=14, loc='lower right')\n",
    "\n",
    "plt.show()"
   ]
  },
  {
   "cell_type": "markdown",
   "id": "9df474b7",
   "metadata": {},
   "source": [
    "# 5. Represent LST data by imagery"
   ]
  },
  {
   "cell_type": "code",
   "execution_count": 10,
   "id": "a18fb6c4",
   "metadata": {},
   "outputs": [],
   "source": [
    "# Define a region of interest with a buffer zone of 1000 km (1e6) around Sydney.\n",
    "roi = s_poi.buffer(1e6)"
   ]
  },
  {
   "cell_type": "code",
   "execution_count": 11,
   "id": "1e4a2888",
   "metadata": {},
   "outputs": [],
   "source": [
    "# We have to convert the LST ee.ImageCollection into an ee.Image, for example by taking the mean value of each pixel \n",
    "lst_img = collection.mean()\n",
    "\n",
    "# Adjust for scale factor.\n",
    "lst_img = lst_img.select('LST_Day_1km').multiply(0.02)\n",
    "\n",
    "# Again, convert Kelvin to Celsius.\n",
    "lst_img = lst_img.select('LST_Day_1km').add(-273.15)"
   ]
  },
  {
   "cell_type": "code",
   "execution_count": 12,
   "id": "80967c4a",
   "metadata": {},
   "outputs": [
    {
     "name": "stdout",
     "output_type": "stream",
     "text": [
      "https://earthengine.googleapis.com/v1alpha/projects/earthengine-legacy/thumbnails/f0c8379e2b56e0758345d2a19b60338d-22b5eaba5f2055f207c3d61cb08cddc7:getPixels\n"
     ]
    },
    {
     "data": {
      "text/html": [
       "<img src=\"https://earthengine.googleapis.com/v1alpha/projects/earthengine-legacy/thumbnails/f0c8379e2b56e0758345d2a19b60338d-22b5eaba5f2055f207c3d61cb08cddc7:getPixels\"/>"
      ],
      "text/plain": [
       "<IPython.core.display.Image object>"
      ]
     },
     "execution_count": 12,
     "metadata": {},
     "output_type": "execute_result"
    }
   ],
   "source": [
    "# Create a URL to the styled image for the region, and display (could take long depending on the area)\n",
    "# By default, blue -> cold while red -> warm. Here we set coldest threshold to 10 and warmest threshold to 40.\n",
    "# Adjust configuration variables to modify the visualization result.\n",
    "url = lst_img.getThumbUrl({\n",
    "    'min': 0, 'max': 60, 'dimensions': 512, 'region': roi,\n",
    "    'palette': ['blue', 'yellow', 'orange', 'red']})\n",
    "print(url)\n",
    "Image(url=url)"
   ]
  },
  {
   "cell_type": "markdown",
   "id": "3147aa7d",
   "metadata": {},
   "source": [
    "# 6. Data/image clipping to the specific test area for AusUrbHI"
   ]
  },
  {
   "cell_type": "code",
   "execution_count": 13,
   "id": "b4a8d35a",
   "metadata": {},
   "outputs": [
    {
     "name": "stdout",
     "output_type": "stream",
     "text": [
      "https://earthengine.googleapis.com/v1alpha/projects/earthengine-legacy/thumbnails/83920e10053a6cc4d2f5d492be325e77-62e868c6ab8ee9fb264c3a7f7c80d915:getPixels\n"
     ]
    },
    {
     "data": {
      "text/html": [
       "<img src=\"https://earthengine.googleapis.com/v1alpha/projects/earthengine-legacy/thumbnails/83920e10053a6cc4d2f5d492be325e77-62e868c6ab8ee9fb264c3a7f7c80d915:getPixels\"/>"
      ],
      "text/plain": [
       "<IPython.core.display.Image object>"
      ]
     },
     "execution_count": 13,
     "metadata": {},
     "output_type": "execute_result"
    }
   ],
   "source": [
    "# clip by buffer region\n",
    "box = [150.5084340260000033,-34.5819238640031443,152.6501044299999990,-32.5371137959999999]\n",
    "bBox = ee.Geometry.BBox(box[0], box[1], box[2], box[3]);\n",
    "bBoxBounds = bBox.bounds(proj='EPSG:4326');\n",
    "clipped_lst_img = lst_img.clip(bBoxBounds)\n",
    "url = clipped_lst_img.getThumbUrl({\n",
    "    'min': 0, 'max': 60, 'dimensions': 512, 'region': bBoxBounds,\n",
    "    'palette': ['blue', 'yellow', 'orange', 'red']})\n",
    "print(url)\n",
    "Image(url=url)"
   ]
  },
  {
   "cell_type": "code",
   "execution_count": 14,
   "id": "a7b6650a",
   "metadata": {},
   "outputs": [
    {
     "name": "stdout",
     "output_type": "stream",
     "text": [
      "https://earthengine.googleapis.com/v1alpha/projects/earthengine-legacy/thumbnails/aca546db023ce7eea1943475cfbd1f7e-a59a850f23751df3dc372841c2a50282:getPixels\n"
     ]
    },
    {
     "data": {
      "text/html": [
       "<img src=\"https://earthengine.googleapis.com/v1alpha/projects/earthengine-legacy/thumbnails/aca546db023ce7eea1943475cfbd1f7e-a59a850f23751df3dc372841c2a50282:getPixels\"/>"
      ],
      "text/plain": [
       "<IPython.core.display.Image object>"
      ]
     },
     "execution_count": 14,
     "metadata": {},
     "output_type": "execute_result"
    }
   ],
   "source": [
    "lst_img2 = lst_img.clip(roi)\n",
    "url = lst_img2.getThumbUrl({\n",
    "    'min': 10, 'max': 40, 'dimensions': 512, 'region': roi,\n",
    "    'palette': ['blue', 'yellow', 'orange', 'red']})\n",
    "print(url)\n",
    "Image(url=url)"
   ]
  },
  {
   "cell_type": "markdown",
   "id": "a5bb0bb8",
   "metadata": {},
   "source": [
    "# 7. Export to GeoTIFF"
   ]
  },
  {
   "cell_type": "code",
   "execution_count": 15,
   "id": "ac0c59a6",
   "metadata": {},
   "outputs": [
    {
     "name": "stdout",
     "output_type": "stream",
     "text": [
      "{'type': 'Projection', 'crs': 'EPSG:4326', 'transform': [1, 0, 0, 0, 1, 0]}\n"
     ]
    }
   ],
   "source": [
    "info = clipped_lst_img.select('LST_Day_1km').projection().getInfo();\n",
    "print(info)"
   ]
  },
  {
   "cell_type": "code",
   "execution_count": 16,
   "id": "2880ac8d",
   "metadata": {},
   "outputs": [],
   "source": [
    "# The process could take pretty long. Use task.status() to check the status.\n",
    "scale=100\n",
    "img_name='{}={}={}={}={}={}={}'.format(s_date, e_date, box[0], box[1], box[2], box[3], scale)\n",
    "task = ee.batch.Export.image.toDrive(image=clipped_lst_img,\n",
    "                                     description='AusUrbHI',\n",
    "                                     fileNamePrefix='study area',\n",
    "                                     scale=scale,\n",
    "                                     maxPixels=3784216672400,\n",
    "                                     fileFormat='GeoTIFF',\n",
    "                                     folder='gdrive_folder')\n",
    "task.start()"
   ]
  },
  {
   "cell_type": "code",
   "execution_count": 18,
   "id": "4ec0e6a4",
   "metadata": {},
   "outputs": [
    {
     "data": {
      "text/plain": [
       "{'state': 'RUNNING',\n",
       " 'description': 'test',\n",
       " 'creation_timestamp_ms': 1652757992941,\n",
       " 'update_timestamp_ms': 1652757998587,\n",
       " 'start_timestamp_ms': 1652757995912,\n",
       " 'task_type': 'EXPORT_IMAGE',\n",
       " 'attempt': 1,\n",
       " 'id': 'FHXGR6VBD35XDHRMAVDD5CP4',\n",
       " 'name': 'projects/earthengine-legacy/operations/FHXGR6VBD35XDHRMAVDD5CP4'}"
      ]
     },
     "execution_count": 18,
     "metadata": {},
     "output_type": "execute_result"
    }
   ],
   "source": [
    "task.status()"
   ]
  },
  {
   "cell_type": "code",
   "execution_count": null,
   "id": "207e7daf",
   "metadata": {},
   "outputs": [],
   "source": []
  }
 ],
 "metadata": {
  "kernelspec": {
   "display_name": "dea",
   "language": "python",
   "name": "dea"
  },
  "language_info": {
   "codemirror_mode": {
    "name": "ipython",
    "version": 3
   },
   "file_extension": ".py",
   "mimetype": "text/x-python",
   "name": "python",
   "nbconvert_exporter": "python",
   "pygments_lexer": "ipython3",
   "version": "3.8.8"
  }
 },
 "nbformat": 4,
 "nbformat_minor": 5
}
