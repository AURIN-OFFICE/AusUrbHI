{
 "cells": [
  {
   "cell_type": "code",
   "execution_count": 7,
   "outputs": [],
   "source": [
    "import xarray as xr\n",
    "\n",
    "filename = 'modis_lst_data_cube.nc'\n",
    "ds = xr.open_dataset(filename)"
   ],
   "metadata": {
    "collapsed": false,
    "ExecuteTime": {
     "start_time": "2023-04-19T23:52:05.341203Z",
     "end_time": "2023-04-19T23:52:05.369311Z"
    }
   }
  },
  {
   "cell_type": "markdown",
   "source": [],
   "metadata": {
    "collapsed": false
   }
  },
  {
   "cell_type": "code",
   "execution_count": 3,
   "outputs": [
    {
     "ename": "TypeError",
     "evalue": "When interpolating over a datetime-like coordinate, the coordinates to interpolate to must be either datetime strings or datetimes. Instead got\n<xarray.Variable ()>\narray(2004)",
     "output_type": "error",
     "traceback": [
      "\u001B[1;31m---------------------------------------------------------------------------\u001B[0m",
      "\u001B[1;31mTypeError\u001B[0m                                 Traceback (most recent call last)",
      "Cell \u001B[1;32mIn[3], line 1\u001B[0m\n\u001B[1;32m----> 1\u001B[0m value_at_coords \u001B[38;5;241m=\u001B[39m \u001B[43mds\u001B[49m\u001B[38;5;241;43m.\u001B[39;49m\u001B[43minterp\u001B[49m\u001B[43m(\u001B[49m\u001B[43mregion\u001B[49m\u001B[38;5;241;43m=\u001B[39;49m\u001B[38;5;124;43m'\u001B[39;49m\u001B[38;5;124;43m102\u001B[39;49m\u001B[38;5;124;43m'\u001B[39;49m\u001B[43m,\u001B[49m\u001B[43m \u001B[49m\u001B[43mdate\u001B[49m\u001B[38;5;241;43m=\u001B[39;49m\u001B[38;5;241;43m2020\u001B[39;49m\u001B[38;5;241;43m-\u001B[39;49m\u001B[38;5;241;43m1\u001B[39;49m\u001B[38;5;241;43m-\u001B[39;49m\u001B[38;5;241;43m15\u001B[39;49m\u001B[43m)\u001B[49m\n\u001B[0;32m      3\u001B[0m \u001B[38;5;66;03m# Print the value at the given coordinates\u001B[39;00m\n\u001B[0;32m      4\u001B[0m \u001B[38;5;28mprint\u001B[39m(value_at_coords\u001B[38;5;241m.\u001B[39mvalues)\n",
      "File \u001B[1;32mD:\\documents\\programming\\AusUrbHI\\.venv\\Lib\\site-packages\\xarray\\core\\dataset.py:3358\u001B[0m, in \u001B[0;36mDataset.interp\u001B[1;34m(self, coords, method, assume_sorted, kwargs, method_non_numeric, **coords_kwargs)\u001B[0m\n\u001B[0;32m   3349\u001B[0m         \u001B[38;5;28;01mraise\u001B[39;00m \u001B[38;5;167;01mTypeError\u001B[39;00m(\n\u001B[0;32m   3350\u001B[0m             \u001B[38;5;124m\"\u001B[39m\u001B[38;5;124mWhen interpolating over a datetime-like \u001B[39m\u001B[38;5;124m\"\u001B[39m\n\u001B[0;32m   3351\u001B[0m             \u001B[38;5;124m\"\u001B[39m\u001B[38;5;124mcoordinate, the coordinates to \u001B[39m\u001B[38;5;124m\"\u001B[39m\n\u001B[1;32m   (...)\u001B[0m\n\u001B[0;32m   3354\u001B[0m             \u001B[38;5;124m\"\u001B[39m\u001B[38;5;124mInstead got\u001B[39m\u001B[38;5;130;01m\\n\u001B[39;00m\u001B[38;5;132;01m{}\u001B[39;00m\u001B[38;5;124m\"\u001B[39m\u001B[38;5;241m.\u001B[39mformat(new_x)\n\u001B[0;32m   3355\u001B[0m         )\n\u001B[0;32m   3356\u001B[0m     \u001B[38;5;28;01mreturn\u001B[39;00m x, new_x\n\u001B[1;32m-> 3358\u001B[0m validated_indexers \u001B[38;5;241m=\u001B[39m \u001B[43m{\u001B[49m\n\u001B[0;32m   3359\u001B[0m \u001B[43m    \u001B[49m\u001B[43mk\u001B[49m\u001B[43m:\u001B[49m\u001B[43m \u001B[49m\u001B[43m_validate_interp_indexer\u001B[49m\u001B[43m(\u001B[49m\u001B[43mmaybe_variable\u001B[49m\u001B[43m(\u001B[49m\u001B[43mobj\u001B[49m\u001B[43m,\u001B[49m\u001B[43m \u001B[49m\u001B[43mk\u001B[49m\u001B[43m)\u001B[49m\u001B[43m,\u001B[49m\u001B[43m \u001B[49m\u001B[43mv\u001B[49m\u001B[43m)\u001B[49m\n\u001B[0;32m   3360\u001B[0m \u001B[43m    \u001B[49m\u001B[38;5;28;43;01mfor\u001B[39;49;00m\u001B[43m \u001B[49m\u001B[43mk\u001B[49m\u001B[43m,\u001B[49m\u001B[43m \u001B[49m\u001B[43mv\u001B[49m\u001B[43m \u001B[49m\u001B[38;5;129;43;01min\u001B[39;49;00m\u001B[43m \u001B[49m\u001B[43mindexers\u001B[49m\u001B[38;5;241;43m.\u001B[39;49m\u001B[43mitems\u001B[49m\u001B[43m(\u001B[49m\u001B[43m)\u001B[49m\n\u001B[0;32m   3361\u001B[0m \u001B[43m\u001B[49m\u001B[43m}\u001B[49m\n\u001B[0;32m   3363\u001B[0m \u001B[38;5;66;03m# optimization: subset to coordinate range of the target index\u001B[39;00m\n\u001B[0;32m   3364\u001B[0m \u001B[38;5;28;01mif\u001B[39;00m method \u001B[38;5;129;01min\u001B[39;00m [\u001B[38;5;124m\"\u001B[39m\u001B[38;5;124mlinear\u001B[39m\u001B[38;5;124m\"\u001B[39m, \u001B[38;5;124m\"\u001B[39m\u001B[38;5;124mnearest\u001B[39m\u001B[38;5;124m\"\u001B[39m]:\n",
      "File \u001B[1;32mD:\\documents\\programming\\AusUrbHI\\.venv\\Lib\\site-packages\\xarray\\core\\dataset.py:3359\u001B[0m, in \u001B[0;36m<dictcomp>\u001B[1;34m(.0)\u001B[0m\n\u001B[0;32m   3349\u001B[0m         \u001B[38;5;28;01mraise\u001B[39;00m \u001B[38;5;167;01mTypeError\u001B[39;00m(\n\u001B[0;32m   3350\u001B[0m             \u001B[38;5;124m\"\u001B[39m\u001B[38;5;124mWhen interpolating over a datetime-like \u001B[39m\u001B[38;5;124m\"\u001B[39m\n\u001B[0;32m   3351\u001B[0m             \u001B[38;5;124m\"\u001B[39m\u001B[38;5;124mcoordinate, the coordinates to \u001B[39m\u001B[38;5;124m\"\u001B[39m\n\u001B[1;32m   (...)\u001B[0m\n\u001B[0;32m   3354\u001B[0m             \u001B[38;5;124m\"\u001B[39m\u001B[38;5;124mInstead got\u001B[39m\u001B[38;5;130;01m\\n\u001B[39;00m\u001B[38;5;132;01m{}\u001B[39;00m\u001B[38;5;124m\"\u001B[39m\u001B[38;5;241m.\u001B[39mformat(new_x)\n\u001B[0;32m   3355\u001B[0m         )\n\u001B[0;32m   3356\u001B[0m     \u001B[38;5;28;01mreturn\u001B[39;00m x, new_x\n\u001B[0;32m   3358\u001B[0m validated_indexers \u001B[38;5;241m=\u001B[39m {\n\u001B[1;32m-> 3359\u001B[0m     k: \u001B[43m_validate_interp_indexer\u001B[49m\u001B[43m(\u001B[49m\u001B[43mmaybe_variable\u001B[49m\u001B[43m(\u001B[49m\u001B[43mobj\u001B[49m\u001B[43m,\u001B[49m\u001B[43m \u001B[49m\u001B[43mk\u001B[49m\u001B[43m)\u001B[49m\u001B[43m,\u001B[49m\u001B[43m \u001B[49m\u001B[43mv\u001B[49m\u001B[43m)\u001B[49m\n\u001B[0;32m   3360\u001B[0m     \u001B[38;5;28;01mfor\u001B[39;00m k, v \u001B[38;5;129;01min\u001B[39;00m indexers\u001B[38;5;241m.\u001B[39mitems()\n\u001B[0;32m   3361\u001B[0m }\n\u001B[0;32m   3363\u001B[0m \u001B[38;5;66;03m# optimization: subset to coordinate range of the target index\u001B[39;00m\n\u001B[0;32m   3364\u001B[0m \u001B[38;5;28;01mif\u001B[39;00m method \u001B[38;5;129;01min\u001B[39;00m [\u001B[38;5;124m\"\u001B[39m\u001B[38;5;124mlinear\u001B[39m\u001B[38;5;124m\"\u001B[39m, \u001B[38;5;124m\"\u001B[39m\u001B[38;5;124mnearest\u001B[39m\u001B[38;5;124m\"\u001B[39m]:\n",
      "File \u001B[1;32mD:\\documents\\programming\\AusUrbHI\\.venv\\Lib\\site-packages\\xarray\\core\\dataset.py:3349\u001B[0m, in \u001B[0;36mDataset.interp.<locals>._validate_interp_indexer\u001B[1;34m(x, new_x)\u001B[0m\n\u001B[0;32m   3342\u001B[0m \u001B[38;5;28;01mdef\u001B[39;00m \u001B[38;5;21m_validate_interp_indexer\u001B[39m(x, new_x):\n\u001B[0;32m   3343\u001B[0m     \u001B[38;5;66;03m# In the case of datetimes, the restrictions placed on indexers\u001B[39;00m\n\u001B[0;32m   3344\u001B[0m     \u001B[38;5;66;03m# used with interp are stronger than those which are placed on\u001B[39;00m\n\u001B[0;32m   3345\u001B[0m     \u001B[38;5;66;03m# isel, so we need an additional check after _validate_indexers.\u001B[39;00m\n\u001B[0;32m   3346\u001B[0m     \u001B[38;5;28;01mif\u001B[39;00m _contains_datetime_like_objects(\n\u001B[0;32m   3347\u001B[0m         x\n\u001B[0;32m   3348\u001B[0m     ) \u001B[38;5;129;01mand\u001B[39;00m \u001B[38;5;129;01mnot\u001B[39;00m _contains_datetime_like_objects(new_x):\n\u001B[1;32m-> 3349\u001B[0m         \u001B[38;5;28;01mraise\u001B[39;00m \u001B[38;5;167;01mTypeError\u001B[39;00m(\n\u001B[0;32m   3350\u001B[0m             \u001B[38;5;124m\"\u001B[39m\u001B[38;5;124mWhen interpolating over a datetime-like \u001B[39m\u001B[38;5;124m\"\u001B[39m\n\u001B[0;32m   3351\u001B[0m             \u001B[38;5;124m\"\u001B[39m\u001B[38;5;124mcoordinate, the coordinates to \u001B[39m\u001B[38;5;124m\"\u001B[39m\n\u001B[0;32m   3352\u001B[0m             \u001B[38;5;124m\"\u001B[39m\u001B[38;5;124minterpolate to must be either datetime \u001B[39m\u001B[38;5;124m\"\u001B[39m\n\u001B[0;32m   3353\u001B[0m             \u001B[38;5;124m\"\u001B[39m\u001B[38;5;124mstrings or datetimes. \u001B[39m\u001B[38;5;124m\"\u001B[39m\n\u001B[0;32m   3354\u001B[0m             \u001B[38;5;124m\"\u001B[39m\u001B[38;5;124mInstead got\u001B[39m\u001B[38;5;130;01m\\n\u001B[39;00m\u001B[38;5;132;01m{}\u001B[39;00m\u001B[38;5;124m\"\u001B[39m\u001B[38;5;241m.\u001B[39mformat(new_x)\n\u001B[0;32m   3355\u001B[0m         )\n\u001B[0;32m   3356\u001B[0m     \u001B[38;5;28;01mreturn\u001B[39;00m x, new_x\n",
      "\u001B[1;31mTypeError\u001B[0m: When interpolating over a datetime-like coordinate, the coordinates to interpolate to must be either datetime strings or datetimes. Instead got\n<xarray.Variable ()>\narray(2004)"
     ]
    }
   ],
   "source": [
    "value_at_coords = ds.interp(region='102', date=2020-1-15)\n",
    "\n",
    "# Print the value at the given coordinates\n",
    "print(value_at_coords.values)"
   ],
   "metadata": {
    "collapsed": false,
    "ExecuteTime": {
     "start_time": "2023-04-19T23:18:49.118911Z",
     "end_time": "2023-04-19T23:18:49.187339Z"
    }
   }
  },
  {
   "cell_type": "code",
   "execution_count": 8,
   "outputs": [],
   "source": [
    "ds.close()"
   ],
   "metadata": {
    "collapsed": false,
    "ExecuteTime": {
     "start_time": "2023-04-19T23:52:14.973494Z",
     "end_time": "2023-04-19T23:52:14.984486Z"
    }
   }
  },
  {
   "cell_type": "code",
   "execution_count": 6,
   "outputs": [],
   "source": [],
   "metadata": {
    "collapsed": false,
    "ExecuteTime": {
     "start_time": "2023-04-19T23:52:02.271282Z",
     "end_time": "2023-04-19T23:52:02.287280Z"
    }
   }
  },
  {
   "cell_type": "code",
   "execution_count": null,
   "outputs": [],
   "source": [],
   "metadata": {
    "collapsed": false
   }
  }
 ],
 "metadata": {
  "kernelspec": {
   "display_name": "Python 3",
   "language": "python",
   "name": "python3"
  },
  "language_info": {
   "codemirror_mode": {
    "name": "ipython",
    "version": 2
   },
   "file_extension": ".py",
   "mimetype": "text/x-python",
   "name": "python",
   "nbconvert_exporter": "python",
   "pygments_lexer": "ipython2",
   "version": "2.7.6"
  }
 },
 "nbformat": 4,
 "nbformat_minor": 0
}
