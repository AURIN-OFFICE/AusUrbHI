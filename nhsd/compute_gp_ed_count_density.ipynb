{
 "cells": [
  {
   "cell_type": "code",
   "execution_count": 2,
   "id": "initial_id",
   "metadata": {
    "collapsed": true,
    "ExecuteTime": {
     "end_time": "2023-11-21T02:53:50.822480Z",
     "start_time": "2023-11-21T02:52:33.568128500Z"
    }
   },
   "outputs": [],
   "source": [
    "import geopandas as gpd\n",
    "from tqdm import tqdm\n",
    "\n",
    "input_file = \"../_data/AusUrbHI HVI data unprocessed/NHSD/nhsd_nov2020_utf8.shp\"\n",
    "# note, the study area file is already buffered by 800/2000m/5000m using arcgis pro\n",
    "study_area_file_800 = \"../_data/AusUrbHI HVI data unprocessed/NHSD/ausurbhi_study_area_2021.shp\"\n",
    "study_area_file_2000 = \"../_data/AusUrbHI HVI data unprocessed/NHSD/ausurbhi_study_area_2021_2000m_buffer.shp\"\n",
    "study_area_file_5000 = \"../_data/AusUrbHI HVI data unprocessed/NHSD/ausurbhi_study_area_2021_5000m_buffer.shp\"\n",
    "output_file = \"../_data/AusUrbHI HVI data processed/NHSD/gp_ed_within_threshold.shp\"\n",
    "\n",
    "nhsd_df = gpd.read_file(input_file)\n",
    "study_area_df_800 = gpd.read_file(study_area_file_800)\n",
    "study_area_df_2000 = gpd.read_file(study_area_file_2000)\n",
    "study_area_df_5000 = gpd.read_file(study_area_file_5000)\n",
    "\n",
    "# create sa1 area dict\n",
    "sa1_area_dict = study_area_df_800.set_index('SA1_CODE21')['AREASQKM21'].to_dict()\n",
    "\n",
    "# Create a new DataFrame for output\n",
    "new_df = study_area_df_800[['SA1_CODE21', 'geometry', 'AREASQKM21']].copy()\n",
    "\n",
    "# Ensure both are in the GDA94 CRS\n",
    "gda94_crs = 'EPSG:4283'\n",
    "if nhsd_df.crs != gda94_crs:\n",
    "    nhsd_df = nhsd_df.to_crs(gda94_crs)\n",
    "for df in [study_area_df_800, study_area_df_2000, study_area_df_5000]:\n",
    "    if df.crs != gda94_crs:\n",
    "        df = df.to_crs(gda94_crs)"
   ]
  },
  {
   "cell_type": "code",
   "execution_count": 3,
   "outputs": [
    {
     "name": "stderr",
     "output_type": "stream",
     "text": [
      "Counting services within 800m buffer:  30%|███       | 4122/13537 [03:31<08:01, 19.54it/s]\n"
     ]
    },
    {
     "ename": "KeyboardInterrupt",
     "evalue": "",
     "output_type": "error",
     "traceback": [
      "\u001B[1;31m---------------------------------------------------------------------------\u001B[0m",
      "\u001B[1;31mKeyboardInterrupt\u001B[0m                         Traceback (most recent call last)",
      "\u001B[1;32m~\\AppData\\Local\\Temp\\ipykernel_5708\\1235096873.py\u001B[0m in \u001B[0;36m?\u001B[1;34m()\u001B[0m\n\u001B[0;32m      5\u001B[0m for area in tqdm(study_area_df_800.geometry,\n\u001B[0;32m      6\u001B[0m                  \u001B[0mdesc\u001B[0m\u001B[1;33m=\u001B[0m\u001B[1;34mf\"Counting services within 800m buffer\"\u001B[0m\u001B[1;33m,\u001B[0m\u001B[1;33m\u001B[0m\u001B[1;33m\u001B[0m\u001B[0m\n\u001B[0;32m      7\u001B[0m                  total=len(study_area_df_800)):\n\u001B[0;32m      8\u001B[0m \u001B[1;33m\u001B[0m\u001B[0m\n\u001B[1;32m----> 9\u001B[1;33m     \u001B[0mgp_count\u001B[0m \u001B[1;33m=\u001B[0m \u001B[0mnhsd_df\u001B[0m\u001B[1;33m[\u001B[0m\u001B[0mnhsd_df\u001B[0m\u001B[1;33m[\u001B[0m\u001B[1;34m'snomed_nm'\u001B[0m\u001B[1;33m]\u001B[0m \u001B[1;33m==\u001B[0m \u001B[1;34m'General practice service'\u001B[0m\u001B[1;33m]\u001B[0m\u001B[1;33m.\u001B[0m\u001B[0mwithin\u001B[0m\u001B[1;33m(\u001B[0m\u001B[0marea\u001B[0m\u001B[1;33m)\u001B[0m\u001B[1;33m.\u001B[0m\u001B[0msum\u001B[0m\u001B[1;33m(\u001B[0m\u001B[1;33m)\u001B[0m\u001B[1;33m\u001B[0m\u001B[1;33m\u001B[0m\u001B[0m\n\u001B[0m\u001B[0;32m     10\u001B[0m     \u001B[0mgp_counts\u001B[0m\u001B[1;33m.\u001B[0m\u001B[0mappend\u001B[0m\u001B[1;33m(\u001B[0m\u001B[0mgp_count\u001B[0m\u001B[1;33m)\u001B[0m\u001B[1;33m\u001B[0m\u001B[1;33m\u001B[0m\u001B[0m\n\u001B[0;32m     11\u001B[0m \u001B[1;33m\u001B[0m\u001B[0m\n\u001B[0;32m     12\u001B[0m     \u001B[0med_count\u001B[0m \u001B[1;33m=\u001B[0m \u001B[0mnhsd_df\u001B[0m\u001B[1;33m[\u001B[0m\u001B[0mnhsd_df\u001B[0m\u001B[1;33m[\u001B[0m\u001B[1;34m'snomed_nm'\u001B[0m\u001B[1;33m]\u001B[0m \u001B[1;33m==\u001B[0m \u001B[1;34m'Emergency department service'\u001B[0m\u001B[1;33m]\u001B[0m\u001B[1;33m.\u001B[0m\u001B[0mwithin\u001B[0m\u001B[1;33m(\u001B[0m\u001B[0marea\u001B[0m\u001B[1;33m)\u001B[0m\u001B[1;33m.\u001B[0m\u001B[0msum\u001B[0m\u001B[1;33m(\u001B[0m\u001B[1;33m)\u001B[0m\u001B[1;33m\u001B[0m\u001B[1;33m\u001B[0m\u001B[0m\n",
      "\u001B[1;32m~\\OneDrive - The University of Melbourne\\AURIN\\AusUrbHI\\AusUrbHI\\.venv\\Lib\\site-packages\\geopandas\\geodataframe.py\u001B[0m in \u001B[0;36m?\u001B[1;34m(self, key)\u001B[0m\n\u001B[0;32m   1470\u001B[0m         \u001B[0mIf\u001B[0m \u001B[0mthe\u001B[0m \u001B[0mresult\u001B[0m \u001B[1;32mis\u001B[0m \u001B[0ma\u001B[0m \u001B[0mcolumn\u001B[0m \u001B[0mcontaining\u001B[0m \u001B[0monly\u001B[0m \u001B[1;34m'geometry'\u001B[0m\u001B[1;33m,\u001B[0m \u001B[1;32mreturn\u001B[0m \u001B[0ma\u001B[0m\u001B[1;33m\u001B[0m\u001B[1;33m\u001B[0m\u001B[0m\n\u001B[0;32m   1471\u001B[0m         \u001B[0mGeoSeries\u001B[0m\u001B[1;33m.\u001B[0m \u001B[0mIf\u001B[0m \u001B[0mit\u001B[0m\u001B[0;31m'\u001B[0m\u001B[0ms\u001B[0m \u001B[0ma\u001B[0m \u001B[0mDataFrame\u001B[0m \u001B[1;32mwith\u001B[0m \u001B[0many\u001B[0m \u001B[0mcolumns\u001B[0m \u001B[0mof\u001B[0m \u001B[0mGeometryDtype\u001B[0m\u001B[1;33m,\u001B[0m\u001B[1;33m\u001B[0m\u001B[1;33m\u001B[0m\u001B[0m\n\u001B[0;32m   1472\u001B[0m         \u001B[1;32mreturn\u001B[0m \u001B[0ma\u001B[0m \u001B[0mGeoDataFrame\u001B[0m\u001B[1;33m.\u001B[0m\u001B[1;33m\u001B[0m\u001B[1;33m\u001B[0m\u001B[0m\n\u001B[0;32m   1473\u001B[0m         \"\"\"\n\u001B[1;32m-> 1474\u001B[1;33m         \u001B[0mresult\u001B[0m \u001B[1;33m=\u001B[0m \u001B[0msuper\u001B[0m\u001B[1;33m(\u001B[0m\u001B[1;33m)\u001B[0m\u001B[1;33m.\u001B[0m\u001B[0m__getitem__\u001B[0m\u001B[1;33m(\u001B[0m\u001B[0mkey\u001B[0m\u001B[1;33m)\u001B[0m\u001B[1;33m\u001B[0m\u001B[1;33m\u001B[0m\u001B[0m\n\u001B[0m\u001B[0;32m   1475\u001B[0m         \u001B[1;31m# Custom logic to avoid waiting for pandas GH51895\u001B[0m\u001B[1;33m\u001B[0m\u001B[1;33m\u001B[0m\u001B[0m\n\u001B[0;32m   1476\u001B[0m         \u001B[1;31m# result is not geometry dtype for multi-indexes\u001B[0m\u001B[1;33m\u001B[0m\u001B[1;33m\u001B[0m\u001B[0m\n\u001B[0;32m   1477\u001B[0m         if (\n",
      "\u001B[1;32m~\\OneDrive - The University of Melbourne\\AURIN\\AusUrbHI\\AusUrbHI\\.venv\\Lib\\site-packages\\pandas\\core\\frame.py\u001B[0m in \u001B[0;36m?\u001B[1;34m(self, key)\u001B[0m\n\u001B[0;32m   3880\u001B[0m             \u001B[1;32mreturn\u001B[0m \u001B[0mself\u001B[0m\u001B[1;33m.\u001B[0m\u001B[0mwhere\u001B[0m\u001B[1;33m(\u001B[0m\u001B[0mkey\u001B[0m\u001B[1;33m)\u001B[0m\u001B[1;33m\u001B[0m\u001B[1;33m\u001B[0m\u001B[0m\n\u001B[0;32m   3881\u001B[0m \u001B[1;33m\u001B[0m\u001B[0m\n\u001B[0;32m   3882\u001B[0m         \u001B[1;31m# Do we have a (boolean) 1d indexer?\u001B[0m\u001B[1;33m\u001B[0m\u001B[1;33m\u001B[0m\u001B[0m\n\u001B[0;32m   3883\u001B[0m         \u001B[1;32mif\u001B[0m \u001B[0mcom\u001B[0m\u001B[1;33m.\u001B[0m\u001B[0mis_bool_indexer\u001B[0m\u001B[1;33m(\u001B[0m\u001B[0mkey\u001B[0m\u001B[1;33m)\u001B[0m\u001B[1;33m:\u001B[0m\u001B[1;33m\u001B[0m\u001B[1;33m\u001B[0m\u001B[0m\n\u001B[1;32m-> 3884\u001B[1;33m             \u001B[1;32mreturn\u001B[0m \u001B[0mself\u001B[0m\u001B[1;33m.\u001B[0m\u001B[0m_getitem_bool_array\u001B[0m\u001B[1;33m(\u001B[0m\u001B[0mkey\u001B[0m\u001B[1;33m)\u001B[0m\u001B[1;33m\u001B[0m\u001B[1;33m\u001B[0m\u001B[0m\n\u001B[0m\u001B[0;32m   3885\u001B[0m \u001B[1;33m\u001B[0m\u001B[0m\n\u001B[0;32m   3886\u001B[0m         \u001B[1;31m# We are left with two options: a single key, and a collection of keys,\u001B[0m\u001B[1;33m\u001B[0m\u001B[1;33m\u001B[0m\u001B[0m\n\u001B[0;32m   3887\u001B[0m         \u001B[1;31m# We interpret tuples as collections only for non-MultiIndex\u001B[0m\u001B[1;33m\u001B[0m\u001B[1;33m\u001B[0m\u001B[0m\n",
      "\u001B[1;32m~\\OneDrive - The University of Melbourne\\AURIN\\AusUrbHI\\AusUrbHI\\.venv\\Lib\\site-packages\\pandas\\core\\frame.py\u001B[0m in \u001B[0;36m?\u001B[1;34m(self, key)\u001B[0m\n\u001B[0;32m   3941\u001B[0m \u001B[1;33m\u001B[0m\u001B[0m\n\u001B[0;32m   3942\u001B[0m         \u001B[1;32mif\u001B[0m \u001B[0mkey\u001B[0m\u001B[1;33m.\u001B[0m\u001B[0mall\u001B[0m\u001B[1;33m(\u001B[0m\u001B[1;33m)\u001B[0m\u001B[1;33m:\u001B[0m\u001B[1;33m\u001B[0m\u001B[1;33m\u001B[0m\u001B[0m\n\u001B[0;32m   3943\u001B[0m             \u001B[1;32mreturn\u001B[0m \u001B[0mself\u001B[0m\u001B[1;33m.\u001B[0m\u001B[0mcopy\u001B[0m\u001B[1;33m(\u001B[0m\u001B[0mdeep\u001B[0m\u001B[1;33m=\u001B[0m\u001B[1;32mNone\u001B[0m\u001B[1;33m)\u001B[0m\u001B[1;33m\u001B[0m\u001B[1;33m\u001B[0m\u001B[0m\n\u001B[0;32m   3944\u001B[0m \u001B[1;33m\u001B[0m\u001B[0m\n\u001B[1;32m-> 3945\u001B[1;33m         \u001B[0mindexer\u001B[0m \u001B[1;33m=\u001B[0m \u001B[0mkey\u001B[0m\u001B[1;33m.\u001B[0m\u001B[0mnonzero\u001B[0m\u001B[1;33m(\u001B[0m\u001B[1;33m)\u001B[0m\u001B[1;33m[\u001B[0m\u001B[1;36m0\u001B[0m\u001B[1;33m]\u001B[0m\u001B[1;33m\u001B[0m\u001B[1;33m\u001B[0m\u001B[0m\n\u001B[0m\u001B[0;32m   3946\u001B[0m         \u001B[1;32mreturn\u001B[0m \u001B[0mself\u001B[0m\u001B[1;33m.\u001B[0m\u001B[0m_take_with_is_copy\u001B[0m\u001B[1;33m(\u001B[0m\u001B[0mindexer\u001B[0m\u001B[1;33m,\u001B[0m \u001B[0maxis\u001B[0m\u001B[1;33m=\u001B[0m\u001B[1;36m0\u001B[0m\u001B[1;33m)\u001B[0m\u001B[1;33m\u001B[0m\u001B[1;33m\u001B[0m\u001B[0m\n",
      "\u001B[1;31mKeyboardInterrupt\u001B[0m: "
     ]
    }
   ],
   "source": [
    "# Count the points within the buffer\n",
    "gp_counts = []\n",
    "ed_counts = []\n",
    "\n",
    "for area in tqdm(study_area_df_800.geometry,\n",
    "                 desc=f\"Counting services within 800m buffer\",\n",
    "                 total=len(study_area_df_800)):\n",
    "    \n",
    "    gp_count = nhsd_df[nhsd_df['snomed_nm'] == 'General practice service'].within(area).sum()\n",
    "    gp_counts.append(gp_count)\n",
    "    \n",
    "    ed_count = nhsd_df[nhsd_df['snomed_nm'] == 'Emergency department service'].within(area).sum()\n",
    "    ed_counts.append(ed_count)\n",
    "    \n",
    "new_df['gp_in_800m'] = gp_counts\n",
    "new_df['ed_in_800m'] = ed_counts\n",
    "new_df['gp_density'] = new_df['gp_in_800m'] / new_df['AREASQKM21']\n",
    "new_df['ed_density'] = new_df['ed_in_800m'] / new_df['AREASQKM21']\n",
    "\n",
    "print(new_df.head())"
   ],
   "metadata": {
    "collapsed": false,
    "ExecuteTime": {
     "end_time": "2023-11-21T02:57:21.947230400Z",
     "start_time": "2023-11-21T02:53:50.825481400Z"
    }
   },
   "id": "7cf5c27ba93ffec7"
  },
  {
   "cell_type": "code",
   "execution_count": null,
   "outputs": [],
   "source": [
    "# Count the points within the buffer\n",
    "gp_counts = []\n",
    "ed_counts = []\n",
    "\n",
    "for area in tqdm(study_area_df_2000.geometry,\n",
    "                 desc=f\"Counting services within 2000m buffer\",\n",
    "                 total=len(study_area_df_2000)):\n",
    "    \n",
    "    gp_count = nhsd_df[nhsd_df['snomed_nm'] == 'General practice service'].within(area).sum()\n",
    "    gp_counts.append(gp_count)\n",
    "    \n",
    "    ed_count = nhsd_df[nhsd_df['snomed_nm'] == 'Emergency department service'].within(area).sum()\n",
    "    ed_counts.append(ed_count)\n",
    "    \n",
    "new_df['gp_in_2km'] = gp_counts\n",
    "new_df['ed_in_2km'] = ed_counts\n",
    "new_df['gp_2km_den'] = new_df['gp_in_2km'] / new_df['AREASQKM21']\n",
    "new_df['ed_2km_den'] = new_df['ed_in_2km'] / new_df['AREASQKM21']\n",
    "\n",
    "print(new_df.head())"
   ],
   "metadata": {
    "collapsed": false,
    "ExecuteTime": {
     "start_time": "2023-11-21T02:57:21.932779300Z"
    }
   },
   "id": "bf7df39b70a8b8e0"
  },
  {
   "cell_type": "code",
   "execution_count": null,
   "outputs": [],
   "source": [
    "# Count the points within the buffer\n",
    "gp_counts = []\n",
    "ed_counts = []\n",
    "\n",
    "for area in tqdm(study_area_df_5000.geometry,\n",
    "                 desc=f\"Counting services within 5000m buffer\",\n",
    "                 total=len(study_area_df_5000)):\n",
    "    \n",
    "    gp_count = nhsd_df[nhsd_df['snomed_nm'] == 'General practice service'].within(area).sum()\n",
    "    gp_counts.append(gp_count)\n",
    "    \n",
    "    ed_count = nhsd_df[nhsd_df['snomed_nm'] == 'Emergency department service'].within(area).sum()\n",
    "    ed_counts.append(ed_count)\n",
    "    \n",
    "new_df['gp_in_5km'] = gp_counts\n",
    "new_df['ed_in_5km'] = ed_counts\n",
    "new_df['gp_5km_den'] = new_df['gp_in_5km'] / new_df['AREASQKM21']\n",
    "new_df['ed_5km_den'] = new_df['ed_in_5km'] / new_df['AREASQKM21']\n",
    "\n",
    "print(new_df.head())"
   ],
   "metadata": {
    "collapsed": false,
    "ExecuteTime": {
     "start_time": "2023-11-21T02:57:21.936779500Z"
    }
   },
   "id": "6d5109e2146c9708"
  },
  {
   "cell_type": "code",
   "execution_count": null,
   "outputs": [],
   "source": [
    "# Restoring the original geometry for SA1 areas (without the buffer)\n",
    "study_area_df = gpd.read_file('../_data/study area/ausurbhi_study_area_2021.shp')\n",
    "new_df['geometry'] = study_area_df['geometry']\n",
    "\n",
    "new_df.to_file(output_file)"
   ],
   "metadata": {
    "collapsed": false,
    "ExecuteTime": {
     "start_time": "2023-11-21T02:57:21.939780400Z"
    }
   },
   "id": "32b07721288b2935"
  },
  {
   "cell_type": "code",
   "execution_count": null,
   "outputs": [],
   "source": [],
   "metadata": {
    "collapsed": false,
    "ExecuteTime": {
     "start_time": "2023-11-21T02:57:21.943778300Z"
    }
   },
   "id": "731260278e830aa3"
  }
 ],
 "metadata": {
  "kernelspec": {
   "display_name": "Python 3",
   "language": "python",
   "name": "python3"
  },
  "language_info": {
   "codemirror_mode": {
    "name": "ipython",
    "version": 2
   },
   "file_extension": ".py",
   "mimetype": "text/x-python",
   "name": "python",
   "nbconvert_exporter": "python",
   "pygments_lexer": "ipython2",
   "version": "2.7.6"
  }
 },
 "nbformat": 4,
 "nbformat_minor": 5
}
