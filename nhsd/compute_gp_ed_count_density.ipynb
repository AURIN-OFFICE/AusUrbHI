{
 "cells": [
  {
   "cell_type": "code",
   "execution_count": 3,
   "id": "initial_id",
   "metadata": {
    "collapsed": true,
    "ExecuteTime": {
     "end_time": "2023-11-09T10:53:05.929244300Z",
     "start_time": "2023-11-09T10:51:06.071787700Z"
    }
   },
   "outputs": [],
   "source": [
    "import geopandas as gpd\n",
    "from tqdm import tqdm\n",
    "\n",
    "input_file = \"../_data/AusUrbHI HVI data unprocessed/NHSD/nhsd_nov2020_utf8.shp\"\n",
    "# note, the study area file is already buffered by 800m using arcgis pro\n",
    "study_area_file = \"../_data/AusUrbHI HVI data unprocessed/NHSD/ausurbhi_study_area_2021.shp\"\n",
    "output_file = \"../_data/AusUrbHI HVI data processed/NHSD/gp_ed_within_800m.shp\"\n",
    "\n",
    "nhsd_df = gpd.read_file(input_file)\n",
    "study_area_df = gpd.read_file(study_area_file)\n",
    "\n",
    "# create sa1 area dict\n",
    "sa1_area_dict = study_area_df.set_index('SA1_CODE21')['AREASQKM21'].to_dict()\n",
    "\n",
    "# Create a new DataFrame for output\n",
    "new_df = study_area_df[['SA1_CODE21', 'geometry', 'AREASQKM21']].copy()\n",
    "\n",
    "# Ensure both are in the GDA94 CRS\n",
    "gda94_crs = 'EPSG:4283'\n",
    "if nhsd_df.crs != gda94_crs:\n",
    "    nhsd_df = nhsd_df.to_crs(gda94_crs)\n",
    "if study_area_df.crs != gda94_crs:\n",
    "    study_area_df = study_area_df.to_crs(gda94_crs)"
   ]
  },
  {
   "cell_type": "code",
   "execution_count": 5,
   "outputs": [
    {
     "name": "stderr",
     "output_type": "stream",
     "text": [
      "Counting services: 100%|██████████| 13537/13537 [22:36<00:00,  9.98it/s] \n"
     ]
    }
   ],
   "source": [
    "# Count the points within the buffer\n",
    "gp_counts = []\n",
    "ed_counts = []\n",
    "\n",
    "for area in tqdm(study_area_df.geometry,\n",
    "                 desc=f\"Counting services\",\n",
    "                 total=len(study_area_df)):\n",
    "    \n",
    "    gp_count = nhsd_df[nhsd_df['snomed_nm'] == 'General practice service'].within(area).sum()\n",
    "    gp_counts.append(gp_count)\n",
    "    \n",
    "    ed_count = nhsd_df[nhsd_df['snomed_nm'] == 'Emergency department service'].within(area).sum()\n",
    "    ed_counts.append(ed_count)"
   ],
   "metadata": {
    "collapsed": false,
    "ExecuteTime": {
     "end_time": "2023-11-09T11:18:01.178474400Z",
     "start_time": "2023-11-09T10:55:24.370526600Z"
    }
   },
   "id": "7cf5c27ba93ffec7"
  },
  {
   "cell_type": "code",
   "execution_count": 6,
   "outputs": [
    {
     "name": "stdout",
     "output_type": "stream",
     "text": [
      "    SA1_CODE21                                           geometry  AREASQKM21  \\\n",
      "0  10201102801  POLYGON ((151.41763 -33.45317, 151.41781 -33.4...      0.6349   \n",
      "1  10201102802  POLYGON ((151.42936 -33.45715, 151.42946 -33.4...      1.1648   \n",
      "2  10201102803  POLYGON ((151.42585 -33.45684, 151.42621 -33.4...      0.5739   \n",
      "3  10201102804  POLYGON ((151.41553 -33.47173, 151.41553 -33.4...      0.1519   \n",
      "4  10201102805  POLYGON ((151.43237 -33.47484, 151.43232 -33.4...      0.1310   \n",
      "\n",
      "   gp_in_800m  ed_in_800m  gp_density  ed_density  \n",
      "0           1           0    1.575051         0.0  \n",
      "1           1           0    0.858516         0.0  \n",
      "2           1           0    1.742464         0.0  \n",
      "3           1           0    6.583278         0.0  \n",
      "4           0           0    0.000000         0.0  \n"
     ]
    }
   ],
   "source": [
    "new_df['gp_in_800m'] = gp_counts\n",
    "new_df['ed_in_800m'] = ed_counts\n",
    "new_df['gp_density'] = new_df['gp_in_800m'] / new_df['AREASQKM21']\n",
    "new_df['ed_density'] = new_df['ed_in_800m'] / new_df['AREASQKM21']\n",
    "\n",
    "print(new_df.head())"
   ],
   "metadata": {
    "collapsed": false,
    "ExecuteTime": {
     "end_time": "2023-11-09T11:18:48.839761200Z",
     "start_time": "2023-11-09T11:18:48.701662400Z"
    }
   },
   "id": "bf7df39b70a8b8e0"
  },
  {
   "cell_type": "code",
   "execution_count": 7,
   "outputs": [],
   "source": [
    "# Restoring the original geometry for SA1 areas (without the buffer)\n",
    "study_area_df = gpd.read_file('../_data/study area/ausurbhi_study_area_2021.shp')\n",
    "new_df['geometry'] = study_area_df['geometry']\n",
    "\n",
    "new_df.to_file(output_file)"
   ],
   "metadata": {
    "collapsed": false,
    "ExecuteTime": {
     "end_time": "2023-11-09T11:19:23.933002900Z",
     "start_time": "2023-11-09T11:18:57.087958800Z"
    }
   },
   "id": "32b07721288b2935"
  },
  {
   "cell_type": "code",
   "execution_count": null,
   "outputs": [],
   "source": [],
   "metadata": {
    "collapsed": false
   },
   "id": "731260278e830aa3"
  }
 ],
 "metadata": {
  "kernelspec": {
   "display_name": "Python 3",
   "language": "python",
   "name": "python3"
  },
  "language_info": {
   "codemirror_mode": {
    "name": "ipython",
    "version": 2
   },
   "file_extension": ".py",
   "mimetype": "text/x-python",
   "name": "python",
   "nbconvert_exporter": "python",
   "pygments_lexer": "ipython2",
   "version": "2.7.6"
  }
 },
 "nbformat": 4,
 "nbformat_minor": 5
}
